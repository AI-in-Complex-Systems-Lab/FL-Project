{
 "cells": [
  {
   "cell_type": "markdown",
   "id": "413eab0c-199b-4cd2-bab4-5d06432bbd86",
   "metadata": {
    "tags": []
   },
   "source": [
    "# Federated Learning with Flower"
   ]
  },
  {
   "cell_type": "markdown",
   "id": "226f0164-db20-4f18-935a-90e0706b3a33",
   "metadata": {},
   "source": [
    "#### This notebook presents a simple Federated Learning example / application on developing a Machine Learning model as an Intrusion Detection System for defending against Cyberattacks using distributed and private data.\n",
    "#### This example uses Docker containers as independent workers / clients for performing the client model training on the limited and private local client data.\n",
    "#### This example was developed as part of the research conducted at [MetaMind Innovations - MINDS](https://metamind.gr/) in the framework of the [ELECTRON H2020](https://metamind.gr/project/electron-h2020/) project."
   ]
  },
  {
   "cell_type": "markdown",
   "id": "c6e0f78b-d9d4-4cca-bd50-8a8f8d70c5cc",
   "metadata": {},
   "source": [
    "### This notebook, as well as the Flower example, were implemented and tested using Python v3.11, Flower v1.5 and TensorFlow v2.14.1"
   ]
  },
  {
   "cell_type": "markdown",
   "id": "5673e709-5e3b-4878-80a2-81e935291384",
   "metadata": {
    "id": "_zFenI3IPpgI",
    "tags": []
   },
   "source": [
    "## Set Up Flower Environment"
   ]
  },
  {
   "cell_type": "code",
   "execution_count": 1,
   "id": "7275eea7-c79e-4d58-8de7-bd740a479df2",
   "metadata": {
    "id": "ke7EyuvG0Zyn"
   },
   "outputs": [],
   "source": [
    "# !pip install --quiet --upgrade flwr==1.5.0\n",
    "# !pip install --quiet --upgrade tensorflow-cpu==2.14.1\n",
    "# !pip install --quiet --upgrade scikit-learn\n",
    "# !pip install --quiet --upgrade pandas\n",
    "# !pip install --quiet --upgrade matplotlib\n",
    "# !pip install --quiet --upgrade git+https://github.com/nepiskopos/py7zr.git"
   ]
  },
  {
   "cell_type": "markdown",
   "id": "60095bec-2e59-45ba-86fd-520f529f9935",
   "metadata": {},
   "source": [
    "## Dataset"
   ]
  },
  {
   "cell_type": "markdown",
   "id": "dbc63401-4146-4607-90e7-7595a3f0475a",
   "metadata": {},
   "source": [
    "This dataset is part of the [DNP3 Intrusion Detection Dataset](https://ieee-dataport.org/documents/dnp3-intrusion-detection-dataset) -- DOI: [10.21227/s7h0-b081](https://dx.doi.org/10.21227/s7h0-b081) -- published by [ITHACA – University of Western Macedonia](http://ithaca.ece.uowm.gr/)."
   ]
  },
  {
   "cell_type": "code",
   "execution_count": 2,
   "id": "725321bb-438b-43c9-8df1-b5d2d0772426",
   "metadata": {},
   "outputs": [],
   "source": [
    "import errno\n",
    "import os\n",
    "import py7zr\n",
    "import re\n",
    "import shutil\n",
    "import sys\n",
    "import time\n",
    "import urllib\n",
    "\n",
    "\n",
    "def reporthook(count, block_size, total_size):\n",
    "    global start_time\n",
    "    if count == 0:\n",
    "        start_time = time.time()\n",
    "        return\n",
    "    duration = time.time() - start_time\n",
    "    progress_size = int(count * block_size)\n",
    "    speed = int(progress_size / (1024 * duration))\n",
    "    percent = int(count * block_size * 100 / total_size)\n",
    "    sys.stdout.write(\"\\r...%d%%, %d MB, %d KB/s, %d seconds passed\" %\n",
    "                    (percent, progress_size / (1024 * 1024), speed, duration))\n",
    "    sys.stdout.flush()\n",
    "\n",
    "def download(url, filename):\n",
    "    urllib.request.urlretrieve(url, filename, reporthook)\n",
    "\n",
    "def extract(archive, target_dir):\n",
    "    archive = py7zr.SevenZipFile(archive, mode='r')\n",
    "    try:\n",
    "        os.makedirs(target_dir)\n",
    "        \n",
    "        archive.extractall(path=target_dir)\n",
    "        archive.close()\n",
    "        \n",
    "        print(f\"Archive '{archive}' extracted successfully!\")\n",
    "    except OSError as e:\n",
    "        if e.errno == errno.EEXIST:\n",
    "            archive.extractall(path=target_dir)\n",
    "            archive.close()\n",
    "            \n",
    "            print(f\"Archive '{archive}' extracted successfully!\")\n",
    "        else:\n",
    "            print(f\"Archive '{archive}' failed to extract...\")\n",
    "\n",
    "\n",
    "base_data_dir = './datasets'\n",
    "\n",
    "if not os.path.isdir(os.path.join(base_data_dir, 'Training_Testing_Balanced_CSV_Files')):\n",
    "    filename = 'DNP3_Intrusion_Detection_Dataset_Final.7z'\n",
    "    \n",
    "    if not py7zr.is_7zfile(filename):\n",
    "        url = ('https://zenodo.org/records/7348493/files/DNP3_Intrusion_Detection_Dataset_Final.7z?download=1')\n",
    "        download(url, filename)\n",
    "    \n",
    "    extract(filename, base_data_dir)\n",
    "\n",
    "    innerDirs = os.listdir(base_data_dir)\n",
    "    for dir in innerDirs:\n",
    "        if (re.search('2020*', dir)):\n",
    "            shutil.rmtree(os.path.join(base_data_dir, dir))\n",
    "    \n",
    "    os.remove(os.path.join('.', filename))"
   ]
  },
  {
   "cell_type": "code",
   "execution_count": 3,
   "id": "a59df2be-0f2d-4f69-bae0-6c3660b22d79",
   "metadata": {},
   "outputs": [],
   "source": [
    "import collections\n",
    "import numpy as np\n",
    "import pandas as pd\n",
    "from matplotlib import pyplot as plt\n",
    "\n",
    "pd.set_option('future.no_silent_downcasting', True)\n",
    "\n",
    "%matplotlib inline"
   ]
  },
  {
   "cell_type": "markdown",
   "id": "62220d1b-b2dc-4d79-8e73-519af64c82e8",
   "metadata": {},
   "source": [
    "We must choose which dataset version to facilitate for the experimentation.\n",
    "\n",
    "We must also choose $3 \\leq N \\leq 5$ distinct federated learning workers.\n",
    "\n",
    "For this example we use the CICFlowMeter dataset with 3 workers."
   ]
  },
  {
   "cell_type": "code",
   "execution_count": 4,
   "id": "dec5093d-7510-4fba-b10b-26c82307be00",
   "metadata": {},
   "outputs": [],
   "source": [
    "tp = 'cic'      # Type: dataset type (CICFlowMeter or Custom Python parser), choose between 'cic' and 'custom'\n",
    "n_workers = 4   # N: number of federated workers, choose between 3 and 5"
   ]
  },
  {
   "cell_type": "markdown",
   "id": "e0467bfd-f129-464e-ba22-becea8c0993a",
   "metadata": {},
   "source": [
    "Perform some value checks"
   ]
  },
  {
   "cell_type": "code",
   "execution_count": 5,
   "id": "5e8ea52b-b893-4251-af46-abef27045ac3",
   "metadata": {},
   "outputs": [],
   "source": [
    "assert tp in ('cic', 'custom'), \"Wrong dataset type, choose between 'cic' and 'custom'\"\n",
    "assert n_workers in (3, 4, 5), \"Wrong number of workers, choose between 3 and 5\""
   ]
  },
  {
   "cell_type": "code",
   "execution_count": 6,
   "id": "050ffcfa-e371-411a-9172-dde2fb2315c5",
   "metadata": {},
   "outputs": [],
   "source": [
    "path = os.path.join(base_data_dir, 'Training_Testing_Balanced_CSV_Files')\n",
    "\n",
    "if tp == 'cic':\n",
    "    dataset = f'CICFlowMeter'\n",
    "else:\n",
    "    dataset = 'Custom_DNP3_Parser'\n",
    "\n",
    "if 'CIC' in dataset:\n",
    "    n = dataset.split('_')[-1]\n",
    "    train_csv = os.path.join(os.path.join(path, dataset), f'CICFlowMeter_Training_Balanced.csv')\n",
    "    test_csv = os.path.join(os.path.join(path, dataset), f'CICFlowMeter_Testing_Balanced.csv')\n",
    "elif 'Custom' in dataset:\n",
    "    n = dataset.split('_')\n",
    "    train_csv = os.path.join(os.path.join(path, dataset), f'Custom_DNP3_Parser_Training_Balanced.csv')\n",
    "    test_csv = os.path.join(os.path.join(path, dataset), f'Custom_DNP3_Parser_Testing_Balanced.csv')\n",
    "else:\n",
    "    raise Exception(\"Wrong dataset\")\n",
    "\n",
    "df_train = pd.read_csv(train_csv, sep=r'\\s*,\\s*', header=0, \n",
    "                       encoding='ascii', engine='python')\n",
    "df_test = pd.read_csv(train_csv, sep=r'\\s*,\\s*', header=0, \n",
    "                      encoding='ascii', engine='python')"
   ]
  },
  {
   "cell_type": "markdown",
   "id": "1ef57df7-92d2-4cab-a454-e1e04611cb03",
   "metadata": {},
   "source": [
    "Let's perform some data exploration."
   ]
  },
  {
   "cell_type": "code",
   "execution_count": 7,
   "id": "61a1113d-69b5-43ab-986f-e954ab8db2d8",
   "metadata": {},
   "outputs": [
    {
     "name": "stdout",
     "output_type": "stream",
     "text": [
      "<class 'pandas.core.frame.DataFrame'>\n",
      "RangeIndex: 5126 entries, 0 to 5125\n",
      "Data columns (total 86 columns):\n",
      " #   Column             Non-Null Count  Dtype  \n",
      "---  ------             --------------  -----  \n",
      " 0   Unnamed: 0.1       5126 non-null   int64  \n",
      " 1   Unnamed: 0         5126 non-null   int64  \n",
      " 2   Flow ID            5126 non-null   object \n",
      " 3   Src IP             5126 non-null   object \n",
      " 4   Src Port           5126 non-null   int64  \n",
      " 5   Dst IP             5126 non-null   object \n",
      " 6   Dst Port           5126 non-null   int64  \n",
      " 7   Protocol           5126 non-null   int64  \n",
      " 8   Timestamp          5126 non-null   object \n",
      " 9   Flow Duration      5126 non-null   int64  \n",
      " 10  Tot Fwd Pkts       5126 non-null   int64  \n",
      " 11  Tot Bwd Pkts       5126 non-null   int64  \n",
      " 12  TotLen Fwd Pkts    5126 non-null   float64\n",
      " 13  TotLen Bwd Pkts    5126 non-null   float64\n",
      " 14  Fwd Pkt Len Max    5126 non-null   float64\n",
      " 15  Fwd Pkt Len Min    5126 non-null   float64\n",
      " 16  Fwd Pkt Len Mean   5126 non-null   float64\n",
      " 17  Fwd Pkt Len Std    5126 non-null   float64\n",
      " 18  Bwd Pkt Len Max    5126 non-null   float64\n",
      " 19  Bwd Pkt Len Min    5126 non-null   float64\n",
      " 20  Bwd Pkt Len Mean   5126 non-null   float64\n",
      " 21  Bwd Pkt Len Std    5126 non-null   float64\n",
      " 22  Flow Byts/s        5126 non-null   float64\n",
      " 23  Flow Pkts/s        5126 non-null   float64\n",
      " 24  Flow IAT Mean      5126 non-null   float64\n",
      " 25  Flow IAT Std       5126 non-null   float64\n",
      " 26  Flow IAT Max       5126 non-null   float64\n",
      " 27  Flow IAT Min       5126 non-null   float64\n",
      " 28  Fwd IAT Tot        5126 non-null   float64\n",
      " 29  Fwd IAT Mean       5126 non-null   float64\n",
      " 30  Fwd IAT Std        5126 non-null   float64\n",
      " 31  Fwd IAT Max        5126 non-null   float64\n",
      " 32  Fwd IAT Min        5126 non-null   float64\n",
      " 33  Bwd IAT Tot        5126 non-null   float64\n",
      " 34  Bwd IAT Mean       5126 non-null   float64\n",
      " 35  Bwd IAT Std        5126 non-null   float64\n",
      " 36  Bwd IAT Max        5126 non-null   float64\n",
      " 37  Bwd IAT Min        5126 non-null   float64\n",
      " 38  Fwd PSH Flags      5126 non-null   int64  \n",
      " 39  Bwd PSH Flags      5126 non-null   int64  \n",
      " 40  Fwd URG Flags      5126 non-null   int64  \n",
      " 41  Bwd URG Flags      5126 non-null   int64  \n",
      " 42  Fwd Header Len     5126 non-null   int64  \n",
      " 43  Bwd Header Len     5126 non-null   int64  \n",
      " 44  Fwd Pkts/s         5126 non-null   float64\n",
      " 45  Bwd Pkts/s         5126 non-null   float64\n",
      " 46  Pkt Len Min        5126 non-null   float64\n",
      " 47  Pkt Len Max        5126 non-null   float64\n",
      " 48  Pkt Len Mean       5126 non-null   float64\n",
      " 49  Pkt Len Std        5126 non-null   float64\n",
      " 50  Pkt Len Var        5126 non-null   float64\n",
      " 51  FIN Flag Cnt       5126 non-null   int64  \n",
      " 52  SYN Flag Cnt       5126 non-null   int64  \n",
      " 53  RST Flag Cnt       5126 non-null   int64  \n",
      " 54  PSH Flag Cnt       5126 non-null   int64  \n",
      " 55  ACK Flag Cnt       5126 non-null   int64  \n",
      " 56  URG Flag Cnt       5126 non-null   int64  \n",
      " 57  CWE Flag Count     5126 non-null   int64  \n",
      " 58  ECE Flag Cnt       5126 non-null   int64  \n",
      " 59  Down/Up Ratio      5126 non-null   float64\n",
      " 60  Pkt Size Avg       5126 non-null   float64\n",
      " 61  Fwd Seg Size Avg   5126 non-null   float64\n",
      " 62  Bwd Seg Size Avg   5126 non-null   float64\n",
      " 63  Fwd Byts/b Avg     5126 non-null   int64  \n",
      " 64  Fwd Pkts/b Avg     5126 non-null   int64  \n",
      " 65  Fwd Blk Rate Avg   5126 non-null   int64  \n",
      " 66  Bwd Byts/b Avg     5126 non-null   int64  \n",
      " 67  Bwd Pkts/b Avg     5126 non-null   int64  \n",
      " 68  Bwd Blk Rate Avg   5126 non-null   int64  \n",
      " 69  Subflow Fwd Pkts   5126 non-null   int64  \n",
      " 70  Subflow Fwd Byts   5126 non-null   int64  \n",
      " 71  Subflow Bwd Pkts   5126 non-null   int64  \n",
      " 72  Subflow Bwd Byts   5126 non-null   int64  \n",
      " 73  Init Fwd Win Byts  5126 non-null   int64  \n",
      " 74  Init Bwd Win Byts  5126 non-null   int64  \n",
      " 75  Fwd Act Data Pkts  5126 non-null   int64  \n",
      " 76  Fwd Seg Size Min   5126 non-null   int64  \n",
      " 77  Active Mean        5126 non-null   float64\n",
      " 78  Active Std         5126 non-null   float64\n",
      " 79  Active Max         5126 non-null   float64\n",
      " 80  Active Min         5126 non-null   float64\n",
      " 81  Idle Mean          5126 non-null   float64\n",
      " 82  Idle Std           5126 non-null   float64\n",
      " 83  Idle Max           5126 non-null   float64\n",
      " 84  Idle Min           5126 non-null   float64\n",
      " 85  Label              5126 non-null   object \n",
      "dtypes: float64(45), int64(36), object(5)\n",
      "memory usage: 3.4+ MB\n"
     ]
    }
   ],
   "source": [
    "df_train.info()"
   ]
  },
  {
   "cell_type": "code",
   "execution_count": 8,
   "id": "859962a0-9629-495f-946c-25f665f6a408",
   "metadata": {},
   "outputs": [
    {
     "name": "stdout",
     "output_type": "stream",
     "text": [
      "<class 'pandas.core.frame.DataFrame'>\n",
      "RangeIndex: 5126 entries, 0 to 5125\n",
      "Data columns (total 86 columns):\n",
      " #   Column             Non-Null Count  Dtype  \n",
      "---  ------             --------------  -----  \n",
      " 0   Unnamed: 0.1       5126 non-null   int64  \n",
      " 1   Unnamed: 0         5126 non-null   int64  \n",
      " 2   Flow ID            5126 non-null   object \n",
      " 3   Src IP             5126 non-null   object \n",
      " 4   Src Port           5126 non-null   int64  \n",
      " 5   Dst IP             5126 non-null   object \n",
      " 6   Dst Port           5126 non-null   int64  \n",
      " 7   Protocol           5126 non-null   int64  \n",
      " 8   Timestamp          5126 non-null   object \n",
      " 9   Flow Duration      5126 non-null   int64  \n",
      " 10  Tot Fwd Pkts       5126 non-null   int64  \n",
      " 11  Tot Bwd Pkts       5126 non-null   int64  \n",
      " 12  TotLen Fwd Pkts    5126 non-null   float64\n",
      " 13  TotLen Bwd Pkts    5126 non-null   float64\n",
      " 14  Fwd Pkt Len Max    5126 non-null   float64\n",
      " 15  Fwd Pkt Len Min    5126 non-null   float64\n",
      " 16  Fwd Pkt Len Mean   5126 non-null   float64\n",
      " 17  Fwd Pkt Len Std    5126 non-null   float64\n",
      " 18  Bwd Pkt Len Max    5126 non-null   float64\n",
      " 19  Bwd Pkt Len Min    5126 non-null   float64\n",
      " 20  Bwd Pkt Len Mean   5126 non-null   float64\n",
      " 21  Bwd Pkt Len Std    5126 non-null   float64\n",
      " 22  Flow Byts/s        5126 non-null   float64\n",
      " 23  Flow Pkts/s        5126 non-null   float64\n",
      " 24  Flow IAT Mean      5126 non-null   float64\n",
      " 25  Flow IAT Std       5126 non-null   float64\n",
      " 26  Flow IAT Max       5126 non-null   float64\n",
      " 27  Flow IAT Min       5126 non-null   float64\n",
      " 28  Fwd IAT Tot        5126 non-null   float64\n",
      " 29  Fwd IAT Mean       5126 non-null   float64\n",
      " 30  Fwd IAT Std        5126 non-null   float64\n",
      " 31  Fwd IAT Max        5126 non-null   float64\n",
      " 32  Fwd IAT Min        5126 non-null   float64\n",
      " 33  Bwd IAT Tot        5126 non-null   float64\n",
      " 34  Bwd IAT Mean       5126 non-null   float64\n",
      " 35  Bwd IAT Std        5126 non-null   float64\n",
      " 36  Bwd IAT Max        5126 non-null   float64\n",
      " 37  Bwd IAT Min        5126 non-null   float64\n",
      " 38  Fwd PSH Flags      5126 non-null   int64  \n",
      " 39  Bwd PSH Flags      5126 non-null   int64  \n",
      " 40  Fwd URG Flags      5126 non-null   int64  \n",
      " 41  Bwd URG Flags      5126 non-null   int64  \n",
      " 42  Fwd Header Len     5126 non-null   int64  \n",
      " 43  Bwd Header Len     5126 non-null   int64  \n",
      " 44  Fwd Pkts/s         5126 non-null   float64\n",
      " 45  Bwd Pkts/s         5126 non-null   float64\n",
      " 46  Pkt Len Min        5126 non-null   float64\n",
      " 47  Pkt Len Max        5126 non-null   float64\n",
      " 48  Pkt Len Mean       5126 non-null   float64\n",
      " 49  Pkt Len Std        5126 non-null   float64\n",
      " 50  Pkt Len Var        5126 non-null   float64\n",
      " 51  FIN Flag Cnt       5126 non-null   int64  \n",
      " 52  SYN Flag Cnt       5126 non-null   int64  \n",
      " 53  RST Flag Cnt       5126 non-null   int64  \n",
      " 54  PSH Flag Cnt       5126 non-null   int64  \n",
      " 55  ACK Flag Cnt       5126 non-null   int64  \n",
      " 56  URG Flag Cnt       5126 non-null   int64  \n",
      " 57  CWE Flag Count     5126 non-null   int64  \n",
      " 58  ECE Flag Cnt       5126 non-null   int64  \n",
      " 59  Down/Up Ratio      5126 non-null   float64\n",
      " 60  Pkt Size Avg       5126 non-null   float64\n",
      " 61  Fwd Seg Size Avg   5126 non-null   float64\n",
      " 62  Bwd Seg Size Avg   5126 non-null   float64\n",
      " 63  Fwd Byts/b Avg     5126 non-null   int64  \n",
      " 64  Fwd Pkts/b Avg     5126 non-null   int64  \n",
      " 65  Fwd Blk Rate Avg   5126 non-null   int64  \n",
      " 66  Bwd Byts/b Avg     5126 non-null   int64  \n",
      " 67  Bwd Pkts/b Avg     5126 non-null   int64  \n",
      " 68  Bwd Blk Rate Avg   5126 non-null   int64  \n",
      " 69  Subflow Fwd Pkts   5126 non-null   int64  \n",
      " 70  Subflow Fwd Byts   5126 non-null   int64  \n",
      " 71  Subflow Bwd Pkts   5126 non-null   int64  \n",
      " 72  Subflow Bwd Byts   5126 non-null   int64  \n",
      " 73  Init Fwd Win Byts  5126 non-null   int64  \n",
      " 74  Init Bwd Win Byts  5126 non-null   int64  \n",
      " 75  Fwd Act Data Pkts  5126 non-null   int64  \n",
      " 76  Fwd Seg Size Min   5126 non-null   int64  \n",
      " 77  Active Mean        5126 non-null   float64\n",
      " 78  Active Std         5126 non-null   float64\n",
      " 79  Active Max         5126 non-null   float64\n",
      " 80  Active Min         5126 non-null   float64\n",
      " 81  Idle Mean          5126 non-null   float64\n",
      " 82  Idle Std           5126 non-null   float64\n",
      " 83  Idle Max           5126 non-null   float64\n",
      " 84  Idle Min           5126 non-null   float64\n",
      " 85  Label              5126 non-null   object \n",
      "dtypes: float64(45), int64(36), object(5)\n",
      "memory usage: 3.4+ MB\n"
     ]
    }
   ],
   "source": [
    "df_test.info()"
   ]
  },
  {
   "cell_type": "markdown",
   "id": "fcc35f5f-dbc5-4c54-977e-cc1d33a40b4c",
   "metadata": {},
   "source": [
    "As a preprocessing step, we transorm the \"Label\" feature from string to categorical and then to numeric."
   ]
  },
  {
   "cell_type": "code",
   "execution_count": 9,
   "id": "d6b294ca-d03a-4ca2-b405-446eb57263da",
   "metadata": {},
   "outputs": [],
   "source": [
    "df_train['Label'] = df_train['Label'].str.lower()\n",
    "df_test['Label'] = df_test['Label'].str.lower()\n",
    "\n",
    "unique_labels = list(df_train.Label.astype('category').unique())\n",
    "unique_codes = list(df_train.Label.astype('category').cat.codes.unique())\n",
    "\n",
    "mapping = dict(zip(unique_labels, unique_codes))\n",
    "mapping_inv = dict(zip(unique_codes, unique_labels))"
   ]
  },
  {
   "cell_type": "code",
   "execution_count": 10,
   "id": "616d7a64-4f5a-4f57-a392-f3db91805ede",
   "metadata": {},
   "outputs": [
    {
     "data": {
      "text/plain": [
       "{'init_data': 5,\n",
       " 'disable_unsolicited': 2,\n",
       " 'warm_restart': 10,\n",
       " 'mitm_dos': 6,\n",
       " 'arp_poisoning': 0,\n",
       " 'normal': 7,\n",
       " 'dnp3_enumerate': 3,\n",
       " 'cold_restart': 1,\n",
       " 'dnp3_info': 4,\n",
       " 'replay': 8,\n",
       " 'stop_app': 9}"
      ]
     },
     "execution_count": 10,
     "metadata": {},
     "output_type": "execute_result"
    }
   ],
   "source": [
    "mapping"
   ]
  },
  {
   "cell_type": "code",
   "execution_count": 11,
   "id": "6742ef54-dfde-4163-a5a8-ce77ce96d0e9",
   "metadata": {},
   "outputs": [],
   "source": [
    "df_train['Label'] = df_train['Label'].astype('category').cat.rename_categories(mapping)\n",
    "df_test['Label'] = df_test['Label'].astype('category').cat.rename_categories(mapping)"
   ]
  },
  {
   "cell_type": "markdown",
   "id": "7edd853c-a1c3-404a-93d5-6a7a82dcb377",
   "metadata": {},
   "source": [
    "Now, we remove the features which do not assist with training a ML model."
   ]
  },
  {
   "cell_type": "code",
   "execution_count": 12,
   "id": "e5d205a4-c27c-418f-9a72-1f7ab10fac57",
   "metadata": {},
   "outputs": [],
   "source": [
    "train = df_train.iloc[:,9:]\n",
    "test = df_test.iloc[:,9:]"
   ]
  },
  {
   "cell_type": "markdown",
   "id": "21e7b4f4-891e-452f-ac11-6ca09d1b3a79",
   "metadata": {},
   "source": [
    "We rename the \"Label\" column to \"y\"."
   ]
  },
  {
   "cell_type": "code",
   "execution_count": 13,
   "id": "0c909bee-4500-4753-90dc-80c37695c0f5",
   "metadata": {},
   "outputs": [],
   "source": [
    "train.rename(columns={\"Label\": \"y\"}, inplace=True, errors=\"raise\")\n",
    "test.rename(columns={\"Label\": \"y\"}, inplace=True, errors=\"raise\")"
   ]
  },
  {
   "cell_type": "markdown",
   "id": "15c56388-b993-4907-8297-32684a1d312f",
   "metadata": {},
   "source": [
    "We drop Inf and NaN values both in the training and in test feature data."
   ]
  },
  {
   "cell_type": "code",
   "execution_count": 14,
   "id": "71a687ef-c1d1-4abb-8b54-8b8418a69b50",
   "metadata": {},
   "outputs": [],
   "source": [
    "# Replace Inf values with NaN\n",
    "train.replace([np.inf, -np.inf], np.nan, inplace=True)\n",
    "test.replace([np.inf, -np.inf], np.nan, inplace=True)\n",
    "\n",
    "# Drop rows with NaN values\n",
    "train.dropna(inplace=True)\n",
    "test.dropna(inplace=True)"
   ]
  },
  {
   "cell_type": "markdown",
   "id": "b3de05c6-c523-476f-8585-78fb574233a2",
   "metadata": {},
   "source": [
    "We store the modified datasets into new local CSV files for future use and model evaluation."
   ]
  },
  {
   "cell_type": "code",
   "execution_count": 15,
   "id": "0b52cb99-37ee-4c3b-a6f5-5ca74ce785dc",
   "metadata": {},
   "outputs": [],
   "source": [
    "directory = os.path.join(base_data_dir, 'federated_datasets')\n",
    "\n",
    "try:\n",
    "    os.makedirs(directory)\n",
    "    train.to_csv(os.path.join(directory, 'train_data.csv'), index=False)\n",
    "    test.to_csv(os.path.join(directory, 'test_data.csv'), index=False)\n",
    "except OSError as e:\n",
    "    if e.errno != errno.EEXIST:\n",
    "        raise\n",
    "    else:   \n",
    "        train.to_csv(os.path.join(directory, 'train_data.csv'), index=False)\n",
    "        test.to_csv(os.path.join(directory, 'test_data.csv'), index=False)"
   ]
  },
  {
   "cell_type": "markdown",
   "id": "695bb658-206d-4cbd-954a-edb49b44d11b",
   "metadata": {},
   "source": [
    "Each worker will be assigned a subset of the dataset with $\\lfloor {M \\over N} \\rfloor$ data points.\n",
    "\n",
    "Each worker data is stored as a seperate CSV file with the proper naming scheme."
   ]
  },
  {
   "cell_type": "code",
   "execution_count": 16,
   "id": "8610eadf-2d5a-472a-abf8-14459be65004",
   "metadata": {},
   "outputs": [],
   "source": [
    "n_samples = int(train.shape[0] / n_workers)\n",
    "\n",
    "assert type(n_workers) == int, \"Non-int number of workers\"\n",
    "assert n_workers >= 3 and n_workers <= df_train.shape[0], \"At least 3 workers and at most as many workers as the number of samples are allowed\"\n",
    "assert n_samples > 0, \"Each worker must be assigned at least one data point\""
   ]
  },
  {
   "cell_type": "code",
   "execution_count": 17,
   "id": "f7ff7dcb-9ae2-4c44-9458-efc3616d2cde",
   "metadata": {},
   "outputs": [],
   "source": [
    "client_data = []\n",
    "train_copy = train.copy()\n",
    "\n",
    "for i in range(n_workers):\n",
    "    sample = train_copy.sample(n=n_samples)\n",
    "    sample.to_csv(os.path.join(directory, f'client_train_data_{i+1}.csv'), index=False)\n",
    "    train_copy.drop(index=sample.index, inplace=True)\n",
    "    client_data.append(sample)"
   ]
  },
  {
   "cell_type": "markdown",
   "id": "31d73885-814e-48cb-b470-9fa232fabf55",
   "metadata": {},
   "source": [
    "Let's check the number of points in each straggler's training data."
   ]
  },
  {
   "cell_type": "code",
   "execution_count": 18,
   "id": "b943a361-c64f-4ae5-9092-8157a53ea910",
   "metadata": {},
   "outputs": [
    {
     "name": "stdout",
     "output_type": "stream",
     "text": [
      "Worker 1 training data contains 1281 points\n",
      "Worker 2 training data contains 1281 points\n",
      "Worker 3 training data contains 1281 points\n",
      "Worker 4 training data contains 1281 points\n"
     ]
    }
   ],
   "source": [
    "for i in range(n_workers):\n",
    "    print(f\"Worker {i+1} training data contains {len(client_data[i])} points\")"
   ]
  },
  {
   "cell_type": "markdown",
   "id": "2a2556d8-d6d8-4d9d-919c-7db5cc8fd829",
   "metadata": {},
   "source": [
    "Let's perform some statistical analysis on the difference in the number of samples for each digit in each client dataset."
   ]
  },
  {
   "cell_type": "code",
   "execution_count": 19,
   "id": "726964a7-87c4-4001-ac17-2fcaa73dfe3c",
   "metadata": {},
   "outputs": [],
   "source": [
    "# Number of examples per layer for a sample of clients\n",
    "fig = plt.figure(figsize=(20, 7))\n",
    "fig.suptitle('Label Counts for a Sample of Worker Data')\n",
    "fig.tight_layout()\n",
    "\n",
    "for i in range(n_workers):\n",
    "    m = 0\n",
    "    plot_data = collections.defaultdict(list)\n",
    "    sample = client_data[i]\n",
    "    for label in sample['y']:\n",
    "        # Append counts individually per label to make plots\n",
    "        # more colorful instead of one color per plot.\n",
    "        plot_data[label].append(label)\n",
    "        m = max(m, len(plot_data[label]))\n",
    "    \n",
    "    n_cols = n_workers if n_workers < 5 else 5\n",
    "    xlim = [0, m+(20-m%20)]\n",
    "    ylim = [min(unique_codes)-1, max(unique_codes)+1]\n",
    "    yticks = list(range(min(unique_codes), max(unique_codes)+1))\n",
    "    yticks_labels = [mapping_inv[k] for k in range(0, max(unique_codes)+1)]\n",
    "    \n",
    "    plt.subplot(int(n_workers / 5)+1, n_cols, i+1)\n",
    "    plt.subplots_adjust(wspace=0.3)\n",
    "    plt.title('Worker {}'.format(i+1))\n",
    "    plt.xlabel('#points')\n",
    "    plt.xlim(xlim)\n",
    "    plt.ylabel('Label')\n",
    "    plt.ylim(ylim)\n",
    "    plt.yticks(yticks, labels=yticks_labels)\n",
    "    \n",
    "    # plot values on top of bars\n",
    "    for key in plot_data:\n",
    "        if len(plot_data[key]) > 0:\n",
    "            plt.text(len(plot_data[key])+8, int(key)-0.1, str(len(plot_data[key])), ha='center')\n",
    "    \n",
    "    for j in range(min(unique_codes),max(unique_codes)+1):\n",
    "        plt.hist(\n",
    "            plot_data[j],\n",
    "            density=False,\n",
    "            bins=[k-0.5 for k in range(min(unique_codes),max(unique_codes)+2)],\n",
    "            orientation='horizontal'\n",
    "        )"
   ]
  },
  {
   "cell_type": "markdown",
   "id": "619f57ad-4c70-4013-8654-4f1b27b9d223",
   "metadata": {},
   "source": [
    "## Centralized model"
   ]
  },
  {
   "cell_type": "markdown",
   "id": "390cf626-f37f-455c-8cf1-c67676f5f838",
   "metadata": {},
   "source": [
    "Let's train a centralized IDS model to use as a reference."
   ]
  },
  {
   "cell_type": "code",
   "execution_count": 20,
   "id": "f7959f41-390b-4b35-a930-48027944b657",
   "metadata": {},
   "outputs": [],
   "source": [
    "import tensorflow as tf\n",
    "from tensorflow.keras.callbacks import EarlyStopping\n",
    "from tensorflow.keras.utils import to_categorical\n",
    "\n",
    "from sklearn.metrics import f1_score\n",
    "from sklearn.preprocessing import StandardScaler"
   ]
  },
  {
   "cell_type": "markdown",
   "id": "6c6d55a6-db67-49ac-9d6f-00b3b49c3d8b",
   "metadata": {},
   "source": [
    "We have to scale the data to avoid huge value deviations."
   ]
  },
  {
   "cell_type": "code",
   "execution_count": 21,
   "id": "150fdc33-1059-4651-b492-cf1394054bb1",
   "metadata": {},
   "outputs": [],
   "source": [
    "scaler = StandardScaler()"
   ]
  },
  {
   "cell_type": "code",
   "execution_count": 22,
   "id": "1e5f3be3-f3a8-4ab6-9f7f-aaab31e3e65e",
   "metadata": {},
   "outputs": [],
   "source": [
    "X_train = scaler.fit_transform(train.drop(['y'], axis=1).to_numpy())\n",
    "y_train = train['y'].to_numpy()\n",
    "X_test = scaler.transform(test.drop(['y'], axis=1).to_numpy())\n",
    "y_test = test['y'].to_numpy()"
   ]
  },
  {
   "cell_type": "markdown",
   "id": "13617d5c-1477-4d60-bdc6-0b414c13e42e",
   "metadata": {},
   "source": [
    "Then, we are better off using one-hot-vectors than scalars for the label representation."
   ]
  },
  {
   "cell_type": "code",
   "execution_count": 23,
   "id": "d235c664-6590-4c3b-9f67-8b7155a10ed5",
   "metadata": {},
   "outputs": [],
   "source": [
    "y_cat_train = to_categorical(y_train)\n",
    "y_cat_test = to_categorical(y_test)"
   ]
  },
  {
   "cell_type": "markdown",
   "id": "ce10eac2-6fb2-462c-8bf6-39f68f21bafa",
   "metadata": {},
   "source": [
    "We define a MLP model with one hidden layer."
   ]
  },
  {
   "cell_type": "code",
   "execution_count": 24,
   "id": "9616f2dc-7609-4296-b1cb-50e227601802",
   "metadata": {},
   "outputs": [
    {
     "name": "stderr",
     "output_type": "stream",
     "text": [
      "/opt/anaconda3/lib/python3.12/site-packages/keras/src/layers/core/input_layer.py:26: UserWarning: Argument `input_shape` is deprecated. Use `shape` instead.\n",
      "  warnings.warn(\n"
     ]
    }
   ],
   "source": [
    "model = tf.keras.models.Sequential([\n",
    "    tf.keras.layers.InputLayer(input_shape=(X_train.shape[1],)),\n",
    "    tf.keras.layers.Dense(units=50, activation='relu'),\n",
    "    tf.keras.layers.Dropout(0.2),\n",
    "    tf.keras.layers.Dense(units=y_cat_test.shape[1], activation='softmax')\n",
    "])\n",
    "\n",
    "model.compile(loss='categorical_crossentropy', optimizer='adam', metrics=['accuracy'])"
   ]
  },
  {
   "cell_type": "markdown",
   "id": "eeb6c17e-f1c3-4638-afc9-e0b61826a328",
   "metadata": {},
   "source": [
    "We use early stopping monitoring the validation loss to avoid overfitting."
   ]
  },
  {
   "cell_type": "code",
   "execution_count": 25,
   "id": "681ca750-dc29-46de-88eb-70f2eb9e8a59",
   "metadata": {},
   "outputs": [],
   "source": [
    "early_stop = EarlyStopping(monitor='val_loss', mode='min', verbose=1, patience=20)"
   ]
  },
  {
   "cell_type": "markdown",
   "id": "700712e0-ed06-4600-aa3e-0a4d312d8062",
   "metadata": {},
   "source": [
    "Let's train the model."
   ]
  },
  {
   "cell_type": "code",
   "execution_count": 26,
   "id": "526e1d55-81da-4b62-b747-c0671d7d46b1",
   "metadata": {},
   "outputs": [
    {
     "name": "stdout",
     "output_type": "stream",
     "text": [
      "Epoch 1/300\n",
      "\u001b[1m81/81\u001b[0m \u001b[32m━━━━━━━━━━━━━━━━━━━━\u001b[0m\u001b[37m\u001b[0m \u001b[1m0s\u001b[0m 2ms/step - accuracy: 0.2788 - loss: 2.0826 - val_accuracy: 0.4800 - val_loss: 1.2121\n",
      "Epoch 2/300\n",
      "\u001b[1m81/81\u001b[0m \u001b[32m━━━━━━━━━━━━━━━━━━━━\u001b[0m\u001b[37m\u001b[0m \u001b[1m0s\u001b[0m 2ms/step - accuracy: 0.4936 - loss: 1.2293 - val_accuracy: 0.5026 - val_loss: 1.0899\n",
      "Epoch 3/300\n",
      "\u001b[1m81/81\u001b[0m \u001b[32m━━━━━━━━━━━━━━━━━━━━\u001b[0m\u001b[37m\u001b[0m \u001b[1m0s\u001b[0m 809us/step - accuracy: 0.5237 - loss: 1.1227 - val_accuracy: 0.5766 - val_loss: 1.0424\n",
      "Epoch 4/300\n",
      "\u001b[1m81/81\u001b[0m \u001b[32m━━━━━━━━━━━━━━━━━━━━\u001b[0m\u001b[37m\u001b[0m \u001b[1m0s\u001b[0m 778us/step - accuracy: 0.5332 - loss: 1.0785 - val_accuracy: 0.6060 - val_loss: 0.9871\n",
      "Epoch 5/300\n",
      "\u001b[1m81/81\u001b[0m \u001b[32m━━━━━━━━━━━━━━━━━━━━\u001b[0m\u001b[37m\u001b[0m \u001b[1m0s\u001b[0m 727us/step - accuracy: 0.5597 - loss: 1.0236 - val_accuracy: 0.5980 - val_loss: 0.9425\n",
      "Epoch 6/300\n",
      "\u001b[1m81/81\u001b[0m \u001b[32m━━━━━━━━━━━━━━━━━━━━\u001b[0m\u001b[37m\u001b[0m \u001b[1m0s\u001b[0m 714us/step - accuracy: 0.5716 - loss: 0.9870 - val_accuracy: 0.6855 - val_loss: 0.8930\n",
      "Epoch 7/300\n",
      "\u001b[1m81/81\u001b[0m \u001b[32m━━━━━━━━━━━━━━━━━━━━\u001b[0m\u001b[37m\u001b[0m \u001b[1m0s\u001b[0m 713us/step - accuracy: 0.5905 - loss: 0.9342 - val_accuracy: 0.6884 - val_loss: 0.8452\n",
      "Epoch 8/300\n",
      "\u001b[1m81/81\u001b[0m \u001b[32m━━━━━━━━━━━━━━━━━━━━\u001b[0m\u001b[37m\u001b[0m \u001b[1m0s\u001b[0m 698us/step - accuracy: 0.6351 - loss: 0.8666 - val_accuracy: 0.6909 - val_loss: 0.8051\n",
      "Epoch 9/300\n",
      "\u001b[1m81/81\u001b[0m \u001b[32m━━━━━━━━━━━━━━━━━━━━\u001b[0m\u001b[37m\u001b[0m \u001b[1m0s\u001b[0m 706us/step - accuracy: 0.6439 - loss: 0.8289 - val_accuracy: 0.6833 - val_loss: 0.7740\n",
      "Epoch 10/300\n",
      "\u001b[1m81/81\u001b[0m \u001b[32m━━━━━━━━━━━━━━━━━━━━\u001b[0m\u001b[37m\u001b[0m \u001b[1m0s\u001b[0m 782us/step - accuracy: 0.6245 - loss: 0.8123 - val_accuracy: 0.6794 - val_loss: 0.7456\n",
      "Epoch 11/300\n",
      "\u001b[1m81/81\u001b[0m \u001b[32m━━━━━━━━━━━━━━━━━━━━\u001b[0m\u001b[37m\u001b[0m \u001b[1m0s\u001b[0m 826us/step - accuracy: 0.6669 - loss: 0.7669 - val_accuracy: 0.6880 - val_loss: 0.7211\n",
      "Epoch 12/300\n",
      "\u001b[1m81/81\u001b[0m \u001b[32m━━━━━━━━━━━━━━━━━━━━\u001b[0m\u001b[37m\u001b[0m \u001b[1m0s\u001b[0m 820us/step - accuracy: 0.6563 - loss: 0.7733 - val_accuracy: 0.6903 - val_loss: 0.7009\n",
      "Epoch 13/300\n",
      "\u001b[1m81/81\u001b[0m \u001b[32m━━━━━━━━━━━━━━━━━━━━\u001b[0m\u001b[37m\u001b[0m \u001b[1m0s\u001b[0m 771us/step - accuracy: 0.6739 - loss: 0.7115 - val_accuracy: 0.6980 - val_loss: 0.6826\n",
      "Epoch 14/300\n",
      "\u001b[1m81/81\u001b[0m \u001b[32m━━━━━━━━━━━━━━━━━━━━\u001b[0m\u001b[37m\u001b[0m \u001b[1m0s\u001b[0m 747us/step - accuracy: 0.6789 - loss: 0.6978 - val_accuracy: 0.6855 - val_loss: 0.6675\n",
      "Epoch 15/300\n",
      "\u001b[1m81/81\u001b[0m \u001b[32m━━━━━━━━━━━━━━━━━━━━\u001b[0m\u001b[37m\u001b[0m \u001b[1m0s\u001b[0m 753us/step - accuracy: 0.6701 - loss: 0.7084 - val_accuracy: 0.6964 - val_loss: 0.6531\n",
      "Epoch 16/300\n",
      "\u001b[1m81/81\u001b[0m \u001b[32m━━━━━━━━━━━━━━━━━━━━\u001b[0m\u001b[37m\u001b[0m \u001b[1m0s\u001b[0m 739us/step - accuracy: 0.6725 - loss: 0.6770 - val_accuracy: 0.6966 - val_loss: 0.6381\n",
      "Epoch 17/300\n",
      "\u001b[1m81/81\u001b[0m \u001b[32m━━━━━━━━━━━━━━━━━━━━\u001b[0m\u001b[37m\u001b[0m \u001b[1m0s\u001b[0m 712us/step - accuracy: 0.6936 - loss: 0.6572 - val_accuracy: 0.6917 - val_loss: 0.6278\n",
      "Epoch 18/300\n",
      "\u001b[1m81/81\u001b[0m \u001b[32m━━━━━━━━━━━━━━━━━━━━\u001b[0m\u001b[37m\u001b[0m \u001b[1m0s\u001b[0m 706us/step - accuracy: 0.6818 - loss: 0.6523 - val_accuracy: 0.6821 - val_loss: 0.6151\n",
      "Epoch 19/300\n",
      "\u001b[1m81/81\u001b[0m \u001b[32m━━━━━━━━━━━━━━━━━━━━\u001b[0m\u001b[37m\u001b[0m \u001b[1m0s\u001b[0m 713us/step - accuracy: 0.6838 - loss: 0.6413 - val_accuracy: 0.6968 - val_loss: 0.6075\n",
      "Epoch 20/300\n",
      "\u001b[1m81/81\u001b[0m \u001b[32m━━━━━━━━━━━━━━━━━━━━\u001b[0m\u001b[37m\u001b[0m \u001b[1m0s\u001b[0m 718us/step - accuracy: 0.7011 - loss: 0.6281 - val_accuracy: 0.6956 - val_loss: 0.5960\n",
      "Epoch 21/300\n",
      "\u001b[1m81/81\u001b[0m \u001b[32m━━━━━━━━━━━━━━━━━━━━\u001b[0m\u001b[37m\u001b[0m \u001b[1m0s\u001b[0m 764us/step - accuracy: 0.6822 - loss: 0.6134 - val_accuracy: 0.6970 - val_loss: 0.5893\n",
      "Epoch 22/300\n",
      "\u001b[1m81/81\u001b[0m \u001b[32m━━━━━━━━━━━━━━━━━━━━\u001b[0m\u001b[37m\u001b[0m \u001b[1m0s\u001b[0m 762us/step - accuracy: 0.6858 - loss: 0.6092 - val_accuracy: 0.6956 - val_loss: 0.5835\n",
      "Epoch 23/300\n",
      "\u001b[1m81/81\u001b[0m \u001b[32m━━━━━━━━━━━━━━━━━━━━\u001b[0m\u001b[37m\u001b[0m \u001b[1m0s\u001b[0m 2ms/step - accuracy: 0.6819 - loss: 0.6100 - val_accuracy: 0.6933 - val_loss: 0.5760\n",
      "Epoch 24/300\n",
      "\u001b[1m81/81\u001b[0m \u001b[32m━━━━━━━━━━━━━━━━━━━━\u001b[0m\u001b[37m\u001b[0m \u001b[1m0s\u001b[0m 715us/step - accuracy: 0.6918 - loss: 0.5950 - val_accuracy: 0.6976 - val_loss: 0.5683\n",
      "Epoch 25/300\n",
      "\u001b[1m81/81\u001b[0m \u001b[32m━━━━━━━━━━━━━━━━━━━━\u001b[0m\u001b[37m\u001b[0m \u001b[1m0s\u001b[0m 761us/step - accuracy: 0.6957 - loss: 0.5836 - val_accuracy: 0.7015 - val_loss: 0.5625\n",
      "Epoch 26/300\n",
      "\u001b[1m81/81\u001b[0m \u001b[32m━━━━━━━━━━━━━━━━━━━━\u001b[0m\u001b[37m\u001b[0m \u001b[1m0s\u001b[0m 760us/step - accuracy: 0.6740 - loss: 0.5920 - val_accuracy: 0.6968 - val_loss: 0.5569\n",
      "Epoch 27/300\n",
      "\u001b[1m81/81\u001b[0m \u001b[32m━━━━━━━━━━━━━━━━━━━━\u001b[0m\u001b[37m\u001b[0m \u001b[1m0s\u001b[0m 698us/step - accuracy: 0.7037 - loss: 0.5786 - val_accuracy: 0.6952 - val_loss: 0.5561\n",
      "Epoch 28/300\n",
      "\u001b[1m81/81\u001b[0m \u001b[32m━━━━━━━━━━━━━━━━━━━━\u001b[0m\u001b[37m\u001b[0m \u001b[1m0s\u001b[0m 707us/step - accuracy: 0.6946 - loss: 0.5778 - val_accuracy: 0.6857 - val_loss: 0.5498\n",
      "Epoch 29/300\n",
      "\u001b[1m81/81\u001b[0m \u001b[32m━━━━━━━━━━━━━━━━━━━━\u001b[0m\u001b[37m\u001b[0m \u001b[1m0s\u001b[0m 712us/step - accuracy: 0.6820 - loss: 0.5808 - val_accuracy: 0.6995 - val_loss: 0.5462\n",
      "Epoch 30/300\n",
      "\u001b[1m81/81\u001b[0m \u001b[32m━━━━━━━━━━━━━━━━━━━━\u001b[0m\u001b[37m\u001b[0m \u001b[1m0s\u001b[0m 697us/step - accuracy: 0.7083 - loss: 0.5575 - val_accuracy: 0.6983 - val_loss: 0.5432\n",
      "Epoch 31/300\n",
      "\u001b[1m81/81\u001b[0m \u001b[32m━━━━━━━━━━━━━━━━━━━━\u001b[0m\u001b[37m\u001b[0m \u001b[1m0s\u001b[0m 721us/step - accuracy: 0.7021 - loss: 0.5607 - val_accuracy: 0.6966 - val_loss: 0.5394\n",
      "Epoch 32/300\n",
      "\u001b[1m81/81\u001b[0m \u001b[32m━━━━━━━━━━━━━━━━━━━━\u001b[0m\u001b[37m\u001b[0m \u001b[1m0s\u001b[0m 773us/step - accuracy: 0.6774 - loss: 0.5633 - val_accuracy: 0.6900 - val_loss: 0.5360\n",
      "Epoch 33/300\n",
      "\u001b[1m81/81\u001b[0m \u001b[32m━━━━━━━━━━━━━━━━━━━━\u001b[0m\u001b[37m\u001b[0m \u001b[1m0s\u001b[0m 739us/step - accuracy: 0.6963 - loss: 0.5501 - val_accuracy: 0.7017 - val_loss: 0.5388\n",
      "Epoch 34/300\n",
      "\u001b[1m81/81\u001b[0m \u001b[32m━━━━━━━━━━━━━━━━━━━━\u001b[0m\u001b[37m\u001b[0m \u001b[1m0s\u001b[0m 730us/step - accuracy: 0.6856 - loss: 0.5603 - val_accuracy: 0.7022 - val_loss: 0.5316\n",
      "Epoch 35/300\n",
      "\u001b[1m81/81\u001b[0m \u001b[32m━━━━━━━━━━━━━━━━━━━━\u001b[0m\u001b[37m\u001b[0m \u001b[1m0s\u001b[0m 760us/step - accuracy: 0.7038 - loss: 0.5558 - val_accuracy: 0.7009 - val_loss: 0.5287\n",
      "Epoch 36/300\n",
      "\u001b[1m81/81\u001b[0m \u001b[32m━━━━━━━━━━━━━━━━━━━━\u001b[0m\u001b[37m\u001b[0m \u001b[1m0s\u001b[0m 711us/step - accuracy: 0.6987 - loss: 0.5400 - val_accuracy: 0.7019 - val_loss: 0.5278\n",
      "Epoch 37/300\n",
      "\u001b[1m81/81\u001b[0m \u001b[32m━━━━━━━━━━━━━━━━━━━━\u001b[0m\u001b[37m\u001b[0m \u001b[1m0s\u001b[0m 742us/step - accuracy: 0.6938 - loss: 0.5479 - val_accuracy: 0.7104 - val_loss: 0.5277\n",
      "Epoch 38/300\n",
      "\u001b[1m81/81\u001b[0m \u001b[32m━━━━━━━━━━━━━━━━━━━━\u001b[0m\u001b[37m\u001b[0m \u001b[1m0s\u001b[0m 762us/step - accuracy: 0.6987 - loss: 0.5462 - val_accuracy: 0.7032 - val_loss: 0.5220\n",
      "Epoch 39/300\n",
      "\u001b[1m81/81\u001b[0m \u001b[32m━━━━━━━━━━━━━━━━━━━━\u001b[0m\u001b[37m\u001b[0m \u001b[1m0s\u001b[0m 720us/step - accuracy: 0.6906 - loss: 0.5449 - val_accuracy: 0.7017 - val_loss: 0.5218\n",
      "Epoch 40/300\n",
      "\u001b[1m81/81\u001b[0m \u001b[32m━━━━━━━━━━━━━━━━━━━━\u001b[0m\u001b[37m\u001b[0m \u001b[1m0s\u001b[0m 714us/step - accuracy: 0.6961 - loss: 0.5376 - val_accuracy: 0.7040 - val_loss: 0.5211\n",
      "Epoch 41/300\n",
      "\u001b[1m81/81\u001b[0m \u001b[32m━━━━━━━━━━━━━━━━━━━━\u001b[0m\u001b[37m\u001b[0m \u001b[1m0s\u001b[0m 706us/step - accuracy: 0.7029 - loss: 0.5384 - val_accuracy: 0.6987 - val_loss: 0.5205\n",
      "Epoch 42/300\n",
      "\u001b[1m81/81\u001b[0m \u001b[32m━━━━━━━━━━━━━━━━━━━━\u001b[0m\u001b[37m\u001b[0m \u001b[1m0s\u001b[0m 704us/step - accuracy: 0.6705 - loss: 0.5505 - val_accuracy: 0.6991 - val_loss: 0.5224\n",
      "Epoch 43/300\n",
      "\u001b[1m81/81\u001b[0m \u001b[32m━━━━━━━━━━━━━━━━━━━━\u001b[0m\u001b[37m\u001b[0m \u001b[1m0s\u001b[0m 1ms/step - accuracy: 0.6982 - loss: 0.5336 - val_accuracy: 0.7024 - val_loss: 0.5162\n",
      "Epoch 44/300\n",
      "\u001b[1m81/81\u001b[0m \u001b[32m━━━━━━━━━━━━━━━━━━━━\u001b[0m\u001b[37m\u001b[0m \u001b[1m0s\u001b[0m 730us/step - accuracy: 0.6831 - loss: 0.5450 - val_accuracy: 0.6981 - val_loss: 0.5185\n",
      "Epoch 45/300\n",
      "\u001b[1m81/81\u001b[0m \u001b[32m━━━━━━━━━━━━━━━━━━━━\u001b[0m\u001b[37m\u001b[0m \u001b[1m0s\u001b[0m 746us/step - accuracy: 0.7073 - loss: 0.5271 - val_accuracy: 0.6987 - val_loss: 0.5151\n",
      "Epoch 46/300\n",
      "\u001b[1m81/81\u001b[0m \u001b[32m━━━━━━━━━━━━━━━━━━━━\u001b[0m\u001b[37m\u001b[0m \u001b[1m0s\u001b[0m 758us/step - accuracy: 0.6909 - loss: 0.5267 - val_accuracy: 0.7034 - val_loss: 0.5150\n",
      "Epoch 47/300\n",
      "\u001b[1m81/81\u001b[0m \u001b[32m━━━━━━━━━━━━━━━━━━━━\u001b[0m\u001b[37m\u001b[0m \u001b[1m0s\u001b[0m 701us/step - accuracy: 0.7032 - loss: 0.5278 - val_accuracy: 0.7020 - val_loss: 0.5118\n",
      "Epoch 48/300\n",
      "\u001b[1m81/81\u001b[0m \u001b[32m━━━━━━━━━━━━━━━━━━━━\u001b[0m\u001b[37m\u001b[0m \u001b[1m0s\u001b[0m 697us/step - accuracy: 0.7015 - loss: 0.5285 - val_accuracy: 0.7063 - val_loss: 0.5113\n",
      "Epoch 49/300\n",
      "\u001b[1m81/81\u001b[0m \u001b[32m━━━━━━━━━━━━━━━━━━━━\u001b[0m\u001b[37m\u001b[0m \u001b[1m0s\u001b[0m 717us/step - accuracy: 0.7177 - loss: 0.5276 - val_accuracy: 0.7128 - val_loss: 0.5137\n",
      "Epoch 50/300\n",
      "\u001b[1m81/81\u001b[0m \u001b[32m━━━━━━━━━━━━━━━━━━━━\u001b[0m\u001b[37m\u001b[0m \u001b[1m0s\u001b[0m 751us/step - accuracy: 0.7021 - loss: 0.5179 - val_accuracy: 0.7186 - val_loss: 0.5090\n",
      "Epoch 51/300\n",
      "\u001b[1m81/81\u001b[0m \u001b[32m━━━━━━━━━━━━━━━━━━━━\u001b[0m\u001b[37m\u001b[0m \u001b[1m0s\u001b[0m 764us/step - accuracy: 0.6996 - loss: 0.5323 - val_accuracy: 0.7077 - val_loss: 0.5105\n",
      "Epoch 52/300\n",
      "\u001b[1m81/81\u001b[0m \u001b[32m━━━━━━━━━━━━━━━━━━━━\u001b[0m\u001b[37m\u001b[0m \u001b[1m0s\u001b[0m 767us/step - accuracy: 0.7008 - loss: 0.5352 - val_accuracy: 0.7065 - val_loss: 0.5079\n",
      "Epoch 53/300\n",
      "\u001b[1m81/81\u001b[0m \u001b[32m━━━━━━━━━━━━━━━━━━━━\u001b[0m\u001b[37m\u001b[0m \u001b[1m0s\u001b[0m 778us/step - accuracy: 0.7018 - loss: 0.5293 - val_accuracy: 0.7052 - val_loss: 0.5072\n",
      "Epoch 54/300\n",
      "\u001b[1m81/81\u001b[0m \u001b[32m━━━━━━━━━━━━━━━━━━━━\u001b[0m\u001b[37m\u001b[0m \u001b[1m0s\u001b[0m 712us/step - accuracy: 0.6985 - loss: 0.5205 - val_accuracy: 0.7122 - val_loss: 0.5053\n",
      "Epoch 55/300\n",
      "\u001b[1m81/81\u001b[0m \u001b[32m━━━━━━━━━━━━━━━━━━━━\u001b[0m\u001b[37m\u001b[0m \u001b[1m0s\u001b[0m 718us/step - accuracy: 0.6986 - loss: 0.5182 - val_accuracy: 0.7048 - val_loss: 0.5047\n",
      "Epoch 56/300\n",
      "\u001b[1m81/81\u001b[0m \u001b[32m━━━━━━━━━━━━━━━━━━━━\u001b[0m\u001b[37m\u001b[0m \u001b[1m0s\u001b[0m 755us/step - accuracy: 0.6999 - loss: 0.5180 - val_accuracy: 0.7089 - val_loss: 0.5044\n",
      "Epoch 57/300\n",
      "\u001b[1m81/81\u001b[0m \u001b[32m━━━━━━━━━━━━━━━━━━━━\u001b[0m\u001b[37m\u001b[0m \u001b[1m0s\u001b[0m 761us/step - accuracy: 0.7046 - loss: 0.5223 - val_accuracy: 0.7130 - val_loss: 0.5043\n",
      "Epoch 58/300\n",
      "\u001b[1m81/81\u001b[0m \u001b[32m━━━━━━━━━━━━━━━━━━━━\u001b[0m\u001b[37m\u001b[0m \u001b[1m0s\u001b[0m 699us/step - accuracy: 0.6893 - loss: 0.5268 - val_accuracy: 0.7040 - val_loss: 0.5044\n",
      "Epoch 59/300\n",
      "\u001b[1m81/81\u001b[0m \u001b[32m━━━━━━━━━━━━━━━━━━━━\u001b[0m\u001b[37m\u001b[0m \u001b[1m0s\u001b[0m 707us/step - accuracy: 0.6964 - loss: 0.5159 - val_accuracy: 0.7140 - val_loss: 0.5026\n",
      "Epoch 60/300\n",
      "\u001b[1m81/81\u001b[0m \u001b[32m━━━━━━━━━━━━━━━━━━━━\u001b[0m\u001b[37m\u001b[0m \u001b[1m0s\u001b[0m 701us/step - accuracy: 0.6948 - loss: 0.5131 - val_accuracy: 0.7052 - val_loss: 0.5046\n",
      "Epoch 61/300\n",
      "\u001b[1m81/81\u001b[0m \u001b[32m━━━━━━━━━━━━━━━━━━━━\u001b[0m\u001b[37m\u001b[0m \u001b[1m0s\u001b[0m 694us/step - accuracy: 0.6978 - loss: 0.5124 - val_accuracy: 0.7153 - val_loss: 0.5013\n",
      "Epoch 62/300\n",
      "\u001b[1m81/81\u001b[0m \u001b[32m━━━━━━━━━━━━━━━━━━━━\u001b[0m\u001b[37m\u001b[0m \u001b[1m0s\u001b[0m 1ms/step - accuracy: 0.7009 - loss: 0.5144 - val_accuracy: 0.7060 - val_loss: 0.5011\n",
      "Epoch 63/300\n",
      "\u001b[1m81/81\u001b[0m \u001b[32m━━━━━━━━━━━━━━━━━━━━\u001b[0m\u001b[37m\u001b[0m \u001b[1m0s\u001b[0m 764us/step - accuracy: 0.6878 - loss: 0.5233 - val_accuracy: 0.7104 - val_loss: 0.4996\n",
      "Epoch 64/300\n",
      "\u001b[1m81/81\u001b[0m \u001b[32m━━━━━━━━━━━━━━━━━━━━\u001b[0m\u001b[37m\u001b[0m \u001b[1m0s\u001b[0m 763us/step - accuracy: 0.7078 - loss: 0.5125 - val_accuracy: 0.7075 - val_loss: 0.4999\n",
      "Epoch 65/300\n",
      "\u001b[1m81/81\u001b[0m \u001b[32m━━━━━━━━━━━━━━━━━━━━\u001b[0m\u001b[37m\u001b[0m \u001b[1m0s\u001b[0m 749us/step - accuracy: 0.6956 - loss: 0.5264 - val_accuracy: 0.7108 - val_loss: 0.5006\n",
      "Epoch 66/300\n",
      "\u001b[1m81/81\u001b[0m \u001b[32m━━━━━━━━━━━━━━━━━━━━\u001b[0m\u001b[37m\u001b[0m \u001b[1m0s\u001b[0m 732us/step - accuracy: 0.6969 - loss: 0.5116 - val_accuracy: 0.7235 - val_loss: 0.4966\n",
      "Epoch 67/300\n",
      "\u001b[1m81/81\u001b[0m \u001b[32m━━━━━━━━━━━━━━━━━━━━\u001b[0m\u001b[37m\u001b[0m \u001b[1m0s\u001b[0m 718us/step - accuracy: 0.7172 - loss: 0.5045 - val_accuracy: 0.7038 - val_loss: 0.4978\n",
      "Epoch 68/300\n",
      "\u001b[1m81/81\u001b[0m \u001b[32m━━━━━━━━━━━━━━━━━━━━\u001b[0m\u001b[37m\u001b[0m \u001b[1m0s\u001b[0m 702us/step - accuracy: 0.7036 - loss: 0.5061 - val_accuracy: 0.7220 - val_loss: 0.4971\n",
      "Epoch 69/300\n",
      "\u001b[1m81/81\u001b[0m \u001b[32m━━━━━━━━━━━━━━━━━━━━\u001b[0m\u001b[37m\u001b[0m \u001b[1m0s\u001b[0m 697us/step - accuracy: 0.6987 - loss: 0.5069 - val_accuracy: 0.7034 - val_loss: 0.4974\n",
      "Epoch 70/300\n",
      "\u001b[1m81/81\u001b[0m \u001b[32m━━━━━━━━━━━━━━━━━━━━\u001b[0m\u001b[37m\u001b[0m \u001b[1m0s\u001b[0m 698us/step - accuracy: 0.6972 - loss: 0.5110 - val_accuracy: 0.7122 - val_loss: 0.4956\n",
      "Epoch 71/300\n",
      "\u001b[1m81/81\u001b[0m \u001b[32m━━━━━━━━━━━━━━━━━━━━\u001b[0m\u001b[37m\u001b[0m \u001b[1m0s\u001b[0m 697us/step - accuracy: 0.7056 - loss: 0.5154 - val_accuracy: 0.7079 - val_loss: 0.4985\n",
      "Epoch 72/300\n",
      "\u001b[1m81/81\u001b[0m \u001b[32m━━━━━━━━━━━━━━━━━━━━\u001b[0m\u001b[37m\u001b[0m \u001b[1m0s\u001b[0m 695us/step - accuracy: 0.6981 - loss: 0.5077 - val_accuracy: 0.7095 - val_loss: 0.4958\n",
      "Epoch 73/300\n",
      "\u001b[1m81/81\u001b[0m \u001b[32m━━━━━━━━━━━━━━━━━━━━\u001b[0m\u001b[37m\u001b[0m \u001b[1m0s\u001b[0m 702us/step - accuracy: 0.7106 - loss: 0.5068 - val_accuracy: 0.7075 - val_loss: 0.4941\n",
      "Epoch 74/300\n",
      "\u001b[1m81/81\u001b[0m \u001b[32m━━━━━━━━━━━━━━━━━━━━\u001b[0m\u001b[37m\u001b[0m \u001b[1m0s\u001b[0m 691us/step - accuracy: 0.6983 - loss: 0.5100 - val_accuracy: 0.7061 - val_loss: 0.4961\n",
      "Epoch 75/300\n",
      "\u001b[1m81/81\u001b[0m \u001b[32m━━━━━━━━━━━━━━━━━━━━\u001b[0m\u001b[37m\u001b[0m \u001b[1m0s\u001b[0m 702us/step - accuracy: 0.6979 - loss: 0.5045 - val_accuracy: 0.7048 - val_loss: 0.4948\n",
      "Epoch 76/300\n",
      "\u001b[1m81/81\u001b[0m \u001b[32m━━━━━━━━━━━━━━━━━━━━\u001b[0m\u001b[37m\u001b[0m \u001b[1m0s\u001b[0m 700us/step - accuracy: 0.6985 - loss: 0.5148 - val_accuracy: 0.7218 - val_loss: 0.4935\n",
      "Epoch 77/300\n",
      "\u001b[1m81/81\u001b[0m \u001b[32m━━━━━━━━━━━━━━━━━━━━\u001b[0m\u001b[37m\u001b[0m \u001b[1m0s\u001b[0m 693us/step - accuracy: 0.7060 - loss: 0.5077 - val_accuracy: 0.7141 - val_loss: 0.4925\n",
      "Epoch 78/300\n",
      "\u001b[1m81/81\u001b[0m \u001b[32m━━━━━━━━━━━━━━━━━━━━\u001b[0m\u001b[37m\u001b[0m \u001b[1m0s\u001b[0m 693us/step - accuracy: 0.7018 - loss: 0.5081 - val_accuracy: 0.7251 - val_loss: 0.4969\n",
      "Epoch 79/300\n",
      "\u001b[1m81/81\u001b[0m \u001b[32m━━━━━━━━━━━━━━━━━━━━\u001b[0m\u001b[37m\u001b[0m \u001b[1m0s\u001b[0m 695us/step - accuracy: 0.7135 - loss: 0.5039 - val_accuracy: 0.7204 - val_loss: 0.4935\n",
      "Epoch 80/300\n",
      "\u001b[1m81/81\u001b[0m \u001b[32m━━━━━━━━━━━━━━━━━━━━\u001b[0m\u001b[37m\u001b[0m \u001b[1m0s\u001b[0m 697us/step - accuracy: 0.6996 - loss: 0.5113 - val_accuracy: 0.7237 - val_loss: 0.4905\n",
      "Epoch 81/300\n",
      "\u001b[1m81/81\u001b[0m \u001b[32m━━━━━━━━━━━━━━━━━━━━\u001b[0m\u001b[37m\u001b[0m \u001b[1m0s\u001b[0m 1ms/step - accuracy: 0.7180 - loss: 0.5054 - val_accuracy: 0.7124 - val_loss: 0.4895\n",
      "Epoch 82/300\n",
      "\u001b[1m81/81\u001b[0m \u001b[32m━━━━━━━━━━━━━━━━━━━━\u001b[0m\u001b[37m\u001b[0m \u001b[1m0s\u001b[0m 703us/step - accuracy: 0.7112 - loss: 0.5047 - val_accuracy: 0.7237 - val_loss: 0.4895\n",
      "Epoch 83/300\n",
      "\u001b[1m81/81\u001b[0m \u001b[32m━━━━━━━━━━━━━━━━━━━━\u001b[0m\u001b[37m\u001b[0m \u001b[1m0s\u001b[0m 698us/step - accuracy: 0.7080 - loss: 0.5020 - val_accuracy: 0.7026 - val_loss: 0.4969\n",
      "Epoch 84/300\n",
      "\u001b[1m81/81\u001b[0m \u001b[32m━━━━━━━━━━━━━━━━━━━━\u001b[0m\u001b[37m\u001b[0m \u001b[1m0s\u001b[0m 703us/step - accuracy: 0.7088 - loss: 0.5077 - val_accuracy: 0.7241 - val_loss: 0.4880\n",
      "Epoch 85/300\n",
      "\u001b[1m81/81\u001b[0m \u001b[32m━━━━━━━━━━━━━━━━━━━━\u001b[0m\u001b[37m\u001b[0m \u001b[1m0s\u001b[0m 703us/step - accuracy: 0.7098 - loss: 0.4955 - val_accuracy: 0.7087 - val_loss: 0.4900\n",
      "Epoch 86/300\n",
      "\u001b[1m81/81\u001b[0m \u001b[32m━━━━━━━━━━━━━━━━━━━━\u001b[0m\u001b[37m\u001b[0m \u001b[1m0s\u001b[0m 702us/step - accuracy: 0.7002 - loss: 0.5077 - val_accuracy: 0.7161 - val_loss: 0.4878\n",
      "Epoch 87/300\n",
      "\u001b[1m81/81\u001b[0m \u001b[32m━━━━━━━━━━━━━━━━━━━━\u001b[0m\u001b[37m\u001b[0m \u001b[1m0s\u001b[0m 750us/step - accuracy: 0.7138 - loss: 0.4990 - val_accuracy: 0.7247 - val_loss: 0.4887\n",
      "Epoch 88/300\n",
      "\u001b[1m81/81\u001b[0m \u001b[32m━━━━━━━━━━━━━━━━━━━━\u001b[0m\u001b[37m\u001b[0m \u001b[1m0s\u001b[0m 777us/step - accuracy: 0.7038 - loss: 0.4982 - val_accuracy: 0.7114 - val_loss: 0.4865\n",
      "Epoch 89/300\n",
      "\u001b[1m81/81\u001b[0m \u001b[32m━━━━━━━━━━━━━━━━━━━━\u001b[0m\u001b[37m\u001b[0m \u001b[1m0s\u001b[0m 746us/step - accuracy: 0.7150 - loss: 0.4951 - val_accuracy: 0.7208 - val_loss: 0.4871\n",
      "Epoch 90/300\n",
      "\u001b[1m81/81\u001b[0m \u001b[32m━━━━━━━━━━━━━━━━━━━━\u001b[0m\u001b[37m\u001b[0m \u001b[1m0s\u001b[0m 742us/step - accuracy: 0.7149 - loss: 0.4927 - val_accuracy: 0.7278 - val_loss: 0.4861\n",
      "Epoch 91/300\n",
      "\u001b[1m81/81\u001b[0m \u001b[32m━━━━━━━━━━━━━━━━━━━━\u001b[0m\u001b[37m\u001b[0m \u001b[1m0s\u001b[0m 709us/step - accuracy: 0.7049 - loss: 0.5084 - val_accuracy: 0.7225 - val_loss: 0.4869\n",
      "Epoch 92/300\n",
      "\u001b[1m81/81\u001b[0m \u001b[32m━━━━━━━━━━━━━━━━━━━━\u001b[0m\u001b[37m\u001b[0m \u001b[1m0s\u001b[0m 751us/step - accuracy: 0.7116 - loss: 0.4978 - val_accuracy: 0.7292 - val_loss: 0.4850\n",
      "Epoch 93/300\n",
      "\u001b[1m81/81\u001b[0m \u001b[32m━━━━━━━━━━━━━━━━━━━━\u001b[0m\u001b[37m\u001b[0m \u001b[1m0s\u001b[0m 746us/step - accuracy: 0.6866 - loss: 0.5112 - val_accuracy: 0.7102 - val_loss: 0.4859\n",
      "Epoch 94/300\n",
      "\u001b[1m81/81\u001b[0m \u001b[32m━━━━━━━━━━━━━━━━━━━━\u001b[0m\u001b[37m\u001b[0m \u001b[1m0s\u001b[0m 702us/step - accuracy: 0.7109 - loss: 0.5029 - val_accuracy: 0.7305 - val_loss: 0.4869\n",
      "Epoch 95/300\n",
      "\u001b[1m81/81\u001b[0m \u001b[32m━━━━━━━━━━━━━━━━━━━━\u001b[0m\u001b[37m\u001b[0m \u001b[1m0s\u001b[0m 706us/step - accuracy: 0.6910 - loss: 0.5099 - val_accuracy: 0.7237 - val_loss: 0.4855\n",
      "Epoch 96/300\n",
      "\u001b[1m81/81\u001b[0m \u001b[32m━━━━━━━━━━━━━━━━━━━━\u001b[0m\u001b[37m\u001b[0m \u001b[1m0s\u001b[0m 702us/step - accuracy: 0.7012 - loss: 0.4957 - val_accuracy: 0.7290 - val_loss: 0.4889\n",
      "Epoch 97/300\n",
      "\u001b[1m81/81\u001b[0m \u001b[32m━━━━━━━━━━━━━━━━━━━━\u001b[0m\u001b[37m\u001b[0m \u001b[1m0s\u001b[0m 700us/step - accuracy: 0.7015 - loss: 0.5092 - val_accuracy: 0.7058 - val_loss: 0.4862\n",
      "Epoch 98/300\n",
      "\u001b[1m81/81\u001b[0m \u001b[32m━━━━━━━━━━━━━━━━━━━━\u001b[0m\u001b[37m\u001b[0m \u001b[1m0s\u001b[0m 701us/step - accuracy: 0.7120 - loss: 0.4939 - val_accuracy: 0.7276 - val_loss: 0.4836\n",
      "Epoch 99/300\n",
      "\u001b[1m81/81\u001b[0m \u001b[32m━━━━━━━━━━━━━━━━━━━━\u001b[0m\u001b[37m\u001b[0m \u001b[1m0s\u001b[0m 2ms/step - accuracy: 0.7203 - loss: 0.4918 - val_accuracy: 0.7180 - val_loss: 0.4838\n",
      "Epoch 100/300\n",
      "\u001b[1m81/81\u001b[0m \u001b[32m━━━━━━━━━━━━━━━━━━━━\u001b[0m\u001b[37m\u001b[0m \u001b[1m0s\u001b[0m 725us/step - accuracy: 0.7025 - loss: 0.5038 - val_accuracy: 0.7138 - val_loss: 0.4852\n",
      "Epoch 101/300\n",
      "\u001b[1m81/81\u001b[0m \u001b[32m━━━━━━━━━━━━━━━━━━━━\u001b[0m\u001b[37m\u001b[0m \u001b[1m0s\u001b[0m 751us/step - accuracy: 0.7130 - loss: 0.5034 - val_accuracy: 0.7212 - val_loss: 0.4867\n",
      "Epoch 102/300\n",
      "\u001b[1m81/81\u001b[0m \u001b[32m━━━━━━━━━━━━━━━━━━━━\u001b[0m\u001b[37m\u001b[0m \u001b[1m0s\u001b[0m 738us/step - accuracy: 0.7081 - loss: 0.5012 - val_accuracy: 0.7262 - val_loss: 0.4817\n",
      "Epoch 103/300\n",
      "\u001b[1m81/81\u001b[0m \u001b[32m━━━━━━━━━━━━━━━━━━━━\u001b[0m\u001b[37m\u001b[0m \u001b[1m0s\u001b[0m 702us/step - accuracy: 0.7201 - loss: 0.4977 - val_accuracy: 0.7022 - val_loss: 0.4847\n",
      "Epoch 104/300\n",
      "\u001b[1m81/81\u001b[0m \u001b[32m━━━━━━━━━━━━━━━━━━━━\u001b[0m\u001b[37m\u001b[0m \u001b[1m0s\u001b[0m 737us/step - accuracy: 0.7208 - loss: 0.4926 - val_accuracy: 0.7415 - val_loss: 0.4808\n",
      "Epoch 105/300\n",
      "\u001b[1m81/81\u001b[0m \u001b[32m━━━━━━━━━━━━━━━━━━━━\u001b[0m\u001b[37m\u001b[0m \u001b[1m0s\u001b[0m 753us/step - accuracy: 0.7107 - loss: 0.4922 - val_accuracy: 0.7409 - val_loss: 0.4807\n",
      "Epoch 106/300\n",
      "\u001b[1m81/81\u001b[0m \u001b[32m━━━━━━━━━━━━━━━━━━━━\u001b[0m\u001b[37m\u001b[0m \u001b[1m0s\u001b[0m 753us/step - accuracy: 0.7075 - loss: 0.4899 - val_accuracy: 0.7235 - val_loss: 0.4817\n",
      "Epoch 107/300\n",
      "\u001b[1m81/81\u001b[0m \u001b[32m━━━━━━━━━━━━━━━━━━━━\u001b[0m\u001b[37m\u001b[0m \u001b[1m0s\u001b[0m 705us/step - accuracy: 0.7189 - loss: 0.4918 - val_accuracy: 0.7190 - val_loss: 0.4825\n",
      "Epoch 108/300\n",
      "\u001b[1m81/81\u001b[0m \u001b[32m━━━━━━━━━━━━━━━━━━━━\u001b[0m\u001b[37m\u001b[0m \u001b[1m0s\u001b[0m 692us/step - accuracy: 0.7025 - loss: 0.4960 - val_accuracy: 0.7278 - val_loss: 0.4823\n",
      "Epoch 109/300\n",
      "\u001b[1m81/81\u001b[0m \u001b[32m━━━━━━━━━━━━━━━━━━━━\u001b[0m\u001b[37m\u001b[0m \u001b[1m0s\u001b[0m 720us/step - accuracy: 0.7139 - loss: 0.4939 - val_accuracy: 0.7081 - val_loss: 0.4803\n",
      "Epoch 110/300\n",
      "\u001b[1m81/81\u001b[0m \u001b[32m━━━━━━━━━━━━━━━━━━━━\u001b[0m\u001b[37m\u001b[0m \u001b[1m0s\u001b[0m 694us/step - accuracy: 0.7244 - loss: 0.5011 - val_accuracy: 0.7169 - val_loss: 0.4793\n",
      "Epoch 111/300\n",
      "\u001b[1m81/81\u001b[0m \u001b[32m━━━━━━━━━━━━━━━━━━━━\u001b[0m\u001b[37m\u001b[0m \u001b[1m0s\u001b[0m 701us/step - accuracy: 0.7047 - loss: 0.5016 - val_accuracy: 0.7227 - val_loss: 0.4830\n",
      "Epoch 112/300\n",
      "\u001b[1m81/81\u001b[0m \u001b[32m━━━━━━━━━━━━━━━━━━━━\u001b[0m\u001b[37m\u001b[0m \u001b[1m0s\u001b[0m 700us/step - accuracy: 0.7209 - loss: 0.4925 - val_accuracy: 0.7225 - val_loss: 0.4788\n",
      "Epoch 113/300\n",
      "\u001b[1m81/81\u001b[0m \u001b[32m━━━━━━━━━━━━━━━━━━━━\u001b[0m\u001b[37m\u001b[0m \u001b[1m0s\u001b[0m 702us/step - accuracy: 0.7145 - loss: 0.4925 - val_accuracy: 0.7391 - val_loss: 0.4801\n",
      "Epoch 114/300\n",
      "\u001b[1m81/81\u001b[0m \u001b[32m━━━━━━━━━━━━━━━━━━━━\u001b[0m\u001b[37m\u001b[0m \u001b[1m0s\u001b[0m 697us/step - accuracy: 0.7164 - loss: 0.4945 - val_accuracy: 0.7313 - val_loss: 0.4767\n",
      "Epoch 115/300\n",
      "\u001b[1m81/81\u001b[0m \u001b[32m━━━━━━━━━━━━━━━━━━━━\u001b[0m\u001b[37m\u001b[0m \u001b[1m0s\u001b[0m 694us/step - accuracy: 0.7057 - loss: 0.4969 - val_accuracy: 0.7188 - val_loss: 0.4803\n",
      "Epoch 116/300\n",
      "\u001b[1m81/81\u001b[0m \u001b[32m━━━━━━━━━━━━━━━━━━━━\u001b[0m\u001b[37m\u001b[0m \u001b[1m0s\u001b[0m 1ms/step - accuracy: 0.7239 - loss: 0.4936 - val_accuracy: 0.7290 - val_loss: 0.4814\n",
      "Epoch 117/300\n",
      "\u001b[1m81/81\u001b[0m \u001b[32m━━━━━━━━━━━━━━━━━━━━\u001b[0m\u001b[37m\u001b[0m \u001b[1m0s\u001b[0m 795us/step - accuracy: 0.7173 - loss: 0.4927 - val_accuracy: 0.7147 - val_loss: 0.4806\n",
      "Epoch 118/300\n",
      "\u001b[1m81/81\u001b[0m \u001b[32m━━━━━━━━━━━━━━━━━━━━\u001b[0m\u001b[37m\u001b[0m \u001b[1m0s\u001b[0m 761us/step - accuracy: 0.7212 - loss: 0.4912 - val_accuracy: 0.7257 - val_loss: 0.4762\n",
      "Epoch 119/300\n",
      "\u001b[1m81/81\u001b[0m \u001b[32m━━━━━━━━━━━━━━━━━━━━\u001b[0m\u001b[37m\u001b[0m \u001b[1m0s\u001b[0m 761us/step - accuracy: 0.7080 - loss: 0.4961 - val_accuracy: 0.7180 - val_loss: 0.4766\n",
      "Epoch 120/300\n",
      "\u001b[1m81/81\u001b[0m \u001b[32m━━━━━━━━━━━━━━━━━━━━\u001b[0m\u001b[37m\u001b[0m \u001b[1m0s\u001b[0m 708us/step - accuracy: 0.7244 - loss: 0.4811 - val_accuracy: 0.7241 - val_loss: 0.4774\n",
      "Epoch 121/300\n",
      "\u001b[1m81/81\u001b[0m \u001b[32m━━━━━━━━━━━━━━━━━━━━\u001b[0m\u001b[37m\u001b[0m \u001b[1m0s\u001b[0m 759us/step - accuracy: 0.7348 - loss: 0.4838 - val_accuracy: 0.7598 - val_loss: 0.4761\n",
      "Epoch 122/300\n",
      "\u001b[1m81/81\u001b[0m \u001b[32m━━━━━━━━━━━━━━━━━━━━\u001b[0m\u001b[37m\u001b[0m \u001b[1m0s\u001b[0m 750us/step - accuracy: 0.7340 - loss: 0.4852 - val_accuracy: 0.7309 - val_loss: 0.4736\n",
      "Epoch 123/300\n",
      "\u001b[1m81/81\u001b[0m \u001b[32m━━━━━━━━━━━━━━━━━━━━\u001b[0m\u001b[37m\u001b[0m \u001b[1m0s\u001b[0m 722us/step - accuracy: 0.7255 - loss: 0.4883 - val_accuracy: 0.7368 - val_loss: 0.4744\n",
      "Epoch 124/300\n",
      "\u001b[1m81/81\u001b[0m \u001b[32m━━━━━━━━━━━━━━━━━━━━\u001b[0m\u001b[37m\u001b[0m \u001b[1m0s\u001b[0m 705us/step - accuracy: 0.7131 - loss: 0.4986 - val_accuracy: 0.7124 - val_loss: 0.4848\n",
      "Epoch 125/300\n",
      "\u001b[1m81/81\u001b[0m \u001b[32m━━━━━━━━━━━━━━━━━━━━\u001b[0m\u001b[37m\u001b[0m \u001b[1m0s\u001b[0m 705us/step - accuracy: 0.7246 - loss: 0.4818 - val_accuracy: 0.7251 - val_loss: 0.4745\n",
      "Epoch 126/300\n",
      "\u001b[1m81/81\u001b[0m \u001b[32m━━━━━━━━━━━━━━━━━━━━\u001b[0m\u001b[37m\u001b[0m \u001b[1m0s\u001b[0m 704us/step - accuracy: 0.7151 - loss: 0.4857 - val_accuracy: 0.7372 - val_loss: 0.4723\n",
      "Epoch 127/300\n",
      "\u001b[1m81/81\u001b[0m \u001b[32m━━━━━━━━━━━━━━━━━━━━\u001b[0m\u001b[37m\u001b[0m \u001b[1m0s\u001b[0m 719us/step - accuracy: 0.7273 - loss: 0.4722 - val_accuracy: 0.7337 - val_loss: 0.4723\n",
      "Epoch 128/300\n",
      "\u001b[1m81/81\u001b[0m \u001b[32m━━━━━━━━━━━━━━━━━━━━\u001b[0m\u001b[37m\u001b[0m \u001b[1m0s\u001b[0m 738us/step - accuracy: 0.7170 - loss: 0.4907 - val_accuracy: 0.7268 - val_loss: 0.4736\n",
      "Epoch 129/300\n",
      "\u001b[1m81/81\u001b[0m \u001b[32m━━━━━━━━━━━━━━━━━━━━\u001b[0m\u001b[37m\u001b[0m \u001b[1m0s\u001b[0m 755us/step - accuracy: 0.7184 - loss: 0.4919 - val_accuracy: 0.7434 - val_loss: 0.4707\n",
      "Epoch 130/300\n",
      "\u001b[1m81/81\u001b[0m \u001b[32m━━━━━━━━━━━━━━━━━━━━\u001b[0m\u001b[37m\u001b[0m \u001b[1m0s\u001b[0m 750us/step - accuracy: 0.7154 - loss: 0.4923 - val_accuracy: 0.7627 - val_loss: 0.4740\n",
      "Epoch 131/300\n",
      "\u001b[1m81/81\u001b[0m \u001b[32m━━━━━━━━━━━━━━━━━━━━\u001b[0m\u001b[37m\u001b[0m \u001b[1m0s\u001b[0m 709us/step - accuracy: 0.7034 - loss: 0.4931 - val_accuracy: 0.7428 - val_loss: 0.4701\n",
      "Epoch 132/300\n",
      "\u001b[1m81/81\u001b[0m \u001b[32m━━━━━━━━━━━━━━━━━━━━\u001b[0m\u001b[37m\u001b[0m \u001b[1m0s\u001b[0m 1ms/step - accuracy: 0.7111 - loss: 0.5006 - val_accuracy: 0.7372 - val_loss: 0.4700\n",
      "Epoch 133/300\n",
      "\u001b[1m81/81\u001b[0m \u001b[32m━━━━━━━━━━━━━━━━━━━━\u001b[0m\u001b[37m\u001b[0m \u001b[1m0s\u001b[0m 705us/step - accuracy: 0.7196 - loss: 0.4858 - val_accuracy: 0.7389 - val_loss: 0.4700\n",
      "Epoch 134/300\n",
      "\u001b[1m81/81\u001b[0m \u001b[32m━━━━━━━━━━━━━━━━━━━━\u001b[0m\u001b[37m\u001b[0m \u001b[1m0s\u001b[0m 728us/step - accuracy: 0.7268 - loss: 0.4801 - val_accuracy: 0.7317 - val_loss: 0.4704\n",
      "Epoch 135/300\n",
      "\u001b[1m81/81\u001b[0m \u001b[32m━━━━━━━━━━━━━━━━━━━━\u001b[0m\u001b[37m\u001b[0m \u001b[1m0s\u001b[0m 772us/step - accuracy: 0.7252 - loss: 0.4824 - val_accuracy: 0.7262 - val_loss: 0.4722\n",
      "Epoch 136/300\n",
      "\u001b[1m81/81\u001b[0m \u001b[32m━━━━━━━━━━━━━━━━━━━━\u001b[0m\u001b[37m\u001b[0m \u001b[1m0s\u001b[0m 773us/step - accuracy: 0.7203 - loss: 0.4853 - val_accuracy: 0.7298 - val_loss: 0.4715\n",
      "Epoch 137/300\n",
      "\u001b[1m81/81\u001b[0m \u001b[32m━━━━━━━━━━━━━━━━━━━━\u001b[0m\u001b[37m\u001b[0m \u001b[1m0s\u001b[0m 757us/step - accuracy: 0.7248 - loss: 0.4842 - val_accuracy: 0.7417 - val_loss: 0.4695\n",
      "Epoch 138/300\n",
      "\u001b[1m81/81\u001b[0m \u001b[32m━━━━━━━━━━━━━━━━━━━━\u001b[0m\u001b[37m\u001b[0m \u001b[1m0s\u001b[0m 769us/step - accuracy: 0.7195 - loss: 0.4872 - val_accuracy: 0.7208 - val_loss: 0.4732\n",
      "Epoch 139/300\n",
      "\u001b[1m81/81\u001b[0m \u001b[32m━━━━━━━━━━━━━━━━━━━━\u001b[0m\u001b[37m\u001b[0m \u001b[1m0s\u001b[0m 774us/step - accuracy: 0.7254 - loss: 0.4831 - val_accuracy: 0.7403 - val_loss: 0.4706\n",
      "Epoch 140/300\n",
      "\u001b[1m81/81\u001b[0m \u001b[32m━━━━━━━━━━━━━━━━━━━━\u001b[0m\u001b[37m\u001b[0m \u001b[1m0s\u001b[0m 751us/step - accuracy: 0.7163 - loss: 0.4871 - val_accuracy: 0.7216 - val_loss: 0.4702\n",
      "Epoch 141/300\n",
      "\u001b[1m81/81\u001b[0m \u001b[32m━━━━━━━━━━━━━━━━━━━━\u001b[0m\u001b[37m\u001b[0m \u001b[1m0s\u001b[0m 769us/step - accuracy: 0.7235 - loss: 0.4833 - val_accuracy: 0.7411 - val_loss: 0.4665\n",
      "Epoch 142/300\n",
      "\u001b[1m81/81\u001b[0m \u001b[32m━━━━━━━━━━━━━━━━━━━━\u001b[0m\u001b[37m\u001b[0m \u001b[1m0s\u001b[0m 762us/step - accuracy: 0.7272 - loss: 0.4844 - val_accuracy: 0.7298 - val_loss: 0.4678\n",
      "Epoch 143/300\n",
      "\u001b[1m81/81\u001b[0m \u001b[32m━━━━━━━━━━━━━━━━━━━━\u001b[0m\u001b[37m\u001b[0m \u001b[1m0s\u001b[0m 768us/step - accuracy: 0.7318 - loss: 0.4792 - val_accuracy: 0.7528 - val_loss: 0.4699\n",
      "Epoch 144/300\n",
      "\u001b[1m81/81\u001b[0m \u001b[32m━━━━━━━━━━━━━━━━━━━━\u001b[0m\u001b[37m\u001b[0m \u001b[1m0s\u001b[0m 743us/step - accuracy: 0.7174 - loss: 0.4833 - val_accuracy: 0.7331 - val_loss: 0.4676\n",
      "Epoch 145/300\n",
      "\u001b[1m81/81\u001b[0m \u001b[32m━━━━━━━━━━━━━━━━━━━━\u001b[0m\u001b[37m\u001b[0m \u001b[1m0s\u001b[0m 759us/step - accuracy: 0.7223 - loss: 0.4861 - val_accuracy: 0.7469 - val_loss: 0.4645\n",
      "Epoch 146/300\n",
      "\u001b[1m81/81\u001b[0m \u001b[32m━━━━━━━━━━━━━━━━━━━━\u001b[0m\u001b[37m\u001b[0m \u001b[1m0s\u001b[0m 780us/step - accuracy: 0.7180 - loss: 0.4822 - val_accuracy: 0.7432 - val_loss: 0.4654\n",
      "Epoch 147/300\n",
      "\u001b[1m81/81\u001b[0m \u001b[32m━━━━━━━━━━━━━━━━━━━━\u001b[0m\u001b[37m\u001b[0m \u001b[1m0s\u001b[0m 2ms/step - accuracy: 0.7329 - loss: 0.4731 - val_accuracy: 0.7173 - val_loss: 0.4668\n",
      "Epoch 148/300\n",
      "\u001b[1m81/81\u001b[0m \u001b[32m━━━━━━━━━━━━━━━━━━━━\u001b[0m\u001b[37m\u001b[0m \u001b[1m0s\u001b[0m 768us/step - accuracy: 0.7226 - loss: 0.4752 - val_accuracy: 0.7286 - val_loss: 0.4662\n",
      "Epoch 149/300\n",
      "\u001b[1m81/81\u001b[0m \u001b[32m━━━━━━━━━━━━━━━━━━━━\u001b[0m\u001b[37m\u001b[0m \u001b[1m0s\u001b[0m 793us/step - accuracy: 0.7164 - loss: 0.4832 - val_accuracy: 0.7432 - val_loss: 0.4663\n",
      "Epoch 150/300\n",
      "\u001b[1m81/81\u001b[0m \u001b[32m━━━━━━━━━━━━━━━━━━━━\u001b[0m\u001b[37m\u001b[0m \u001b[1m0s\u001b[0m 780us/step - accuracy: 0.7262 - loss: 0.4834 - val_accuracy: 0.7419 - val_loss: 0.4642\n",
      "Epoch 151/300\n",
      "\u001b[1m81/81\u001b[0m \u001b[32m━━━━━━━━━━━━━━━━━━━━\u001b[0m\u001b[37m\u001b[0m \u001b[1m0s\u001b[0m 793us/step - accuracy: 0.7427 - loss: 0.4581 - val_accuracy: 0.7420 - val_loss: 0.4647\n",
      "Epoch 152/300\n",
      "\u001b[1m81/81\u001b[0m \u001b[32m━━━━━━━━━━━━━━━━━━━━\u001b[0m\u001b[37m\u001b[0m \u001b[1m0s\u001b[0m 780us/step - accuracy: 0.7266 - loss: 0.4829 - val_accuracy: 0.7467 - val_loss: 0.4642\n",
      "Epoch 153/300\n",
      "\u001b[1m81/81\u001b[0m \u001b[32m━━━━━━━━━━━━━━━━━━━━\u001b[0m\u001b[37m\u001b[0m \u001b[1m0s\u001b[0m 771us/step - accuracy: 0.7269 - loss: 0.4719 - val_accuracy: 0.7337 - val_loss: 0.4628\n",
      "Epoch 154/300\n",
      "\u001b[1m81/81\u001b[0m \u001b[32m━━━━━━━━━━━━━━━━━━━━\u001b[0m\u001b[37m\u001b[0m \u001b[1m0s\u001b[0m 726us/step - accuracy: 0.7282 - loss: 0.4854 - val_accuracy: 0.7333 - val_loss: 0.4633\n",
      "Epoch 155/300\n",
      "\u001b[1m81/81\u001b[0m \u001b[32m━━━━━━━━━━━━━━━━━━━━\u001b[0m\u001b[37m\u001b[0m \u001b[1m0s\u001b[0m 708us/step - accuracy: 0.7283 - loss: 0.4833 - val_accuracy: 0.7368 - val_loss: 0.4654\n",
      "Epoch 156/300\n",
      "\u001b[1m81/81\u001b[0m \u001b[32m━━━━━━━━━━━━━━━━━━━━\u001b[0m\u001b[37m\u001b[0m \u001b[1m0s\u001b[0m 728us/step - accuracy: 0.7251 - loss: 0.4826 - val_accuracy: 0.7331 - val_loss: 0.4623\n",
      "Epoch 157/300\n",
      "\u001b[1m81/81\u001b[0m \u001b[32m━━━━━━━━━━━━━━━━━━━━\u001b[0m\u001b[37m\u001b[0m \u001b[1m0s\u001b[0m 775us/step - accuracy: 0.7255 - loss: 0.4773 - val_accuracy: 0.7358 - val_loss: 0.4643\n",
      "Epoch 158/300\n",
      "\u001b[1m81/81\u001b[0m \u001b[32m━━━━━━━━━━━━━━━━━━━━\u001b[0m\u001b[37m\u001b[0m \u001b[1m0s\u001b[0m 759us/step - accuracy: 0.7337 - loss: 0.4740 - val_accuracy: 0.7333 - val_loss: 0.4628\n",
      "Epoch 159/300\n",
      "\u001b[1m81/81\u001b[0m \u001b[32m━━━━━━━━━━━━━━━━━━━━\u001b[0m\u001b[37m\u001b[0m \u001b[1m0s\u001b[0m 757us/step - accuracy: 0.7315 - loss: 0.4759 - val_accuracy: 0.7378 - val_loss: 0.4639\n",
      "Epoch 160/300\n",
      "\u001b[1m81/81\u001b[0m \u001b[32m━━━━━━━━━━━━━━━━━━━━\u001b[0m\u001b[37m\u001b[0m \u001b[1m0s\u001b[0m 783us/step - accuracy: 0.7194 - loss: 0.4842 - val_accuracy: 0.7309 - val_loss: 0.4634\n",
      "Epoch 161/300\n",
      "\u001b[1m81/81\u001b[0m \u001b[32m━━━━━━━━━━━━━━━━━━━━\u001b[0m\u001b[37m\u001b[0m \u001b[1m0s\u001b[0m 751us/step - accuracy: 0.7312 - loss: 0.4796 - val_accuracy: 0.7612 - val_loss: 0.4627\n",
      "Epoch 162/300\n",
      "\u001b[1m81/81\u001b[0m \u001b[32m━━━━━━━━━━━━━━━━━━━━\u001b[0m\u001b[37m\u001b[0m \u001b[1m0s\u001b[0m 2ms/step - accuracy: 0.7299 - loss: 0.4811 - val_accuracy: 0.7245 - val_loss: 0.4641\n",
      "Epoch 163/300\n",
      "\u001b[1m81/81\u001b[0m \u001b[32m━━━━━━━━━━━━━━━━━━━━\u001b[0m\u001b[37m\u001b[0m \u001b[1m0s\u001b[0m 790us/step - accuracy: 0.7397 - loss: 0.4653 - val_accuracy: 0.7335 - val_loss: 0.4633\n",
      "Epoch 164/300\n",
      "\u001b[1m81/81\u001b[0m \u001b[32m━━━━━━━━━━━━━━━━━━━━\u001b[0m\u001b[37m\u001b[0m \u001b[1m0s\u001b[0m 735us/step - accuracy: 0.7386 - loss: 0.4731 - val_accuracy: 0.7331 - val_loss: 0.4652\n",
      "Epoch 165/300\n",
      "\u001b[1m81/81\u001b[0m \u001b[32m━━━━━━━━━━━━━━━━━━━━\u001b[0m\u001b[37m\u001b[0m \u001b[1m0s\u001b[0m 704us/step - accuracy: 0.7247 - loss: 0.4712 - val_accuracy: 0.7091 - val_loss: 0.4684\n",
      "Epoch 166/300\n",
      "\u001b[1m81/81\u001b[0m \u001b[32m━━━━━━━━━━━━━━━━━━━━\u001b[0m\u001b[37m\u001b[0m \u001b[1m0s\u001b[0m 704us/step - accuracy: 0.7243 - loss: 0.4627 - val_accuracy: 0.7461 - val_loss: 0.4614\n",
      "Epoch 167/300\n",
      "\u001b[1m81/81\u001b[0m \u001b[32m━━━━━━━━━━━━━━━━━━━━\u001b[0m\u001b[37m\u001b[0m \u001b[1m0s\u001b[0m 728us/step - accuracy: 0.7351 - loss: 0.4825 - val_accuracy: 0.7233 - val_loss: 0.4604\n",
      "Epoch 168/300\n",
      "\u001b[1m81/81\u001b[0m \u001b[32m━━━━━━━━━━━━━━━━━━━━\u001b[0m\u001b[37m\u001b[0m \u001b[1m0s\u001b[0m 723us/step - accuracy: 0.7426 - loss: 0.4604 - val_accuracy: 0.7331 - val_loss: 0.4631\n",
      "Epoch 169/300\n",
      "\u001b[1m81/81\u001b[0m \u001b[32m━━━━━━━━━━━━━━━━━━━━\u001b[0m\u001b[37m\u001b[0m \u001b[1m0s\u001b[0m 720us/step - accuracy: 0.7288 - loss: 0.4718 - val_accuracy: 0.7506 - val_loss: 0.4579\n",
      "Epoch 170/300\n",
      "\u001b[1m81/81\u001b[0m \u001b[32m━━━━━━━━━━━━━━━━━━━━\u001b[0m\u001b[37m\u001b[0m \u001b[1m0s\u001b[0m 709us/step - accuracy: 0.7462 - loss: 0.4604 - val_accuracy: 0.7327 - val_loss: 0.4618\n",
      "Epoch 171/300\n",
      "\u001b[1m81/81\u001b[0m \u001b[32m━━━━━━━━━━━━━━━━━━━━\u001b[0m\u001b[37m\u001b[0m \u001b[1m0s\u001b[0m 704us/step - accuracy: 0.7224 - loss: 0.4809 - val_accuracy: 0.7220 - val_loss: 0.4616\n",
      "Epoch 172/300\n",
      "\u001b[1m81/81\u001b[0m \u001b[32m━━━━━━━━━━━━━━━━━━━━\u001b[0m\u001b[37m\u001b[0m \u001b[1m0s\u001b[0m 707us/step - accuracy: 0.7285 - loss: 0.4772 - val_accuracy: 0.7502 - val_loss: 0.4626\n",
      "Epoch 173/300\n",
      "\u001b[1m81/81\u001b[0m \u001b[32m━━━━━━━━━━━━━━━━━━━━\u001b[0m\u001b[37m\u001b[0m \u001b[1m0s\u001b[0m 758us/step - accuracy: 0.7489 - loss: 0.4663 - val_accuracy: 0.7381 - val_loss: 0.4638\n",
      "Epoch 174/300\n",
      "\u001b[1m81/81\u001b[0m \u001b[32m━━━━━━━━━━━━━━━━━━━━\u001b[0m\u001b[37m\u001b[0m \u001b[1m0s\u001b[0m 784us/step - accuracy: 0.7252 - loss: 0.4834 - val_accuracy: 0.7342 - val_loss: 0.4581\n",
      "Epoch 175/300\n",
      "\u001b[1m81/81\u001b[0m \u001b[32m━━━━━━━━━━━━━━━━━━━━\u001b[0m\u001b[37m\u001b[0m \u001b[1m0s\u001b[0m 758us/step - accuracy: 0.7409 - loss: 0.4645 - val_accuracy: 0.7173 - val_loss: 0.4636\n",
      "Epoch 176/300\n",
      "\u001b[1m81/81\u001b[0m \u001b[32m━━━━━━━━━━━━━━━━━━━━\u001b[0m\u001b[37m\u001b[0m \u001b[1m0s\u001b[0m 772us/step - accuracy: 0.7211 - loss: 0.4734 - val_accuracy: 0.7344 - val_loss: 0.4604\n",
      "Epoch 177/300\n",
      "\u001b[1m81/81\u001b[0m \u001b[32m━━━━━━━━━━━━━━━━━━━━\u001b[0m\u001b[37m\u001b[0m \u001b[1m0s\u001b[0m 752us/step - accuracy: 0.7251 - loss: 0.4800 - val_accuracy: 0.7522 - val_loss: 0.4545\n",
      "Epoch 178/300\n",
      "\u001b[1m81/81\u001b[0m \u001b[32m━━━━━━━━━━━━━━━━━━━━\u001b[0m\u001b[37m\u001b[0m \u001b[1m0s\u001b[0m 2ms/step - accuracy: 0.7386 - loss: 0.4683 - val_accuracy: 0.7477 - val_loss: 0.4557\n",
      "Epoch 179/300\n",
      "\u001b[1m81/81\u001b[0m \u001b[32m━━━━━━━━━━━━━━━━━━━━\u001b[0m\u001b[37m\u001b[0m \u001b[1m0s\u001b[0m 770us/step - accuracy: 0.7360 - loss: 0.4738 - val_accuracy: 0.7340 - val_loss: 0.4586\n",
      "Epoch 180/300\n",
      "\u001b[1m81/81\u001b[0m \u001b[32m━━━━━━━━━━━━━━━━━━━━\u001b[0m\u001b[37m\u001b[0m \u001b[1m0s\u001b[0m 724us/step - accuracy: 0.7235 - loss: 0.4766 - val_accuracy: 0.7446 - val_loss: 0.4545\n",
      "Epoch 181/300\n",
      "\u001b[1m81/81\u001b[0m \u001b[32m━━━━━━━━━━━━━━━━━━━━\u001b[0m\u001b[37m\u001b[0m \u001b[1m0s\u001b[0m 761us/step - accuracy: 0.7327 - loss: 0.4668 - val_accuracy: 0.7446 - val_loss: 0.4610\n",
      "Epoch 182/300\n",
      "\u001b[1m81/81\u001b[0m \u001b[32m━━━━━━━━━━━━━━━━━━━━\u001b[0m\u001b[37m\u001b[0m \u001b[1m0s\u001b[0m 760us/step - accuracy: 0.7350 - loss: 0.4773 - val_accuracy: 0.7493 - val_loss: 0.4562\n",
      "Epoch 183/300\n",
      "\u001b[1m81/81\u001b[0m \u001b[32m━━━━━━━━━━━━━━━━━━━━\u001b[0m\u001b[37m\u001b[0m \u001b[1m0s\u001b[0m 787us/step - accuracy: 0.7423 - loss: 0.4635 - val_accuracy: 0.7481 - val_loss: 0.4547\n",
      "Epoch 184/300\n",
      "\u001b[1m81/81\u001b[0m \u001b[32m━━━━━━━━━━━━━━━━━━━━\u001b[0m\u001b[37m\u001b[0m \u001b[1m0s\u001b[0m 717us/step - accuracy: 0.7268 - loss: 0.4708 - val_accuracy: 0.7434 - val_loss: 0.4538\n",
      "Epoch 185/300\n",
      "\u001b[1m81/81\u001b[0m \u001b[32m━━━━━━━━━━━━━━━━━━━━\u001b[0m\u001b[37m\u001b[0m \u001b[1m0s\u001b[0m 697us/step - accuracy: 0.7291 - loss: 0.4785 - val_accuracy: 0.7467 - val_loss: 0.4522\n",
      "Epoch 186/300\n",
      "\u001b[1m81/81\u001b[0m \u001b[32m━━━━━━━━━━━━━━━━━━━━\u001b[0m\u001b[37m\u001b[0m \u001b[1m0s\u001b[0m 698us/step - accuracy: 0.7414 - loss: 0.4674 - val_accuracy: 0.7442 - val_loss: 0.4536\n",
      "Epoch 187/300\n",
      "\u001b[1m81/81\u001b[0m \u001b[32m━━━━━━━━━━━━━━━━━━━━\u001b[0m\u001b[37m\u001b[0m \u001b[1m0s\u001b[0m 720us/step - accuracy: 0.7406 - loss: 0.4773 - val_accuracy: 0.7348 - val_loss: 0.4560\n",
      "Epoch 188/300\n",
      "\u001b[1m81/81\u001b[0m \u001b[32m━━━━━━━━━━━━━━━━━━━━\u001b[0m\u001b[37m\u001b[0m \u001b[1m0s\u001b[0m 696us/step - accuracy: 0.7543 - loss: 0.4691 - val_accuracy: 0.7428 - val_loss: 0.4552\n",
      "Epoch 189/300\n",
      "\u001b[1m81/81\u001b[0m \u001b[32m━━━━━━━━━━━━━━━━━━━━\u001b[0m\u001b[37m\u001b[0m \u001b[1m0s\u001b[0m 700us/step - accuracy: 0.7446 - loss: 0.4636 - val_accuracy: 0.7303 - val_loss: 0.4663\n",
      "Epoch 190/300\n",
      "\u001b[1m81/81\u001b[0m \u001b[32m━━━━━━━━━━━━━━━━━━━━\u001b[0m\u001b[37m\u001b[0m \u001b[1m0s\u001b[0m 699us/step - accuracy: 0.7237 - loss: 0.4800 - val_accuracy: 0.7481 - val_loss: 0.4554\n",
      "Epoch 191/300\n",
      "\u001b[1m81/81\u001b[0m \u001b[32m━━━━━━━━━━━━━━━━━━━━\u001b[0m\u001b[37m\u001b[0m \u001b[1m0s\u001b[0m 708us/step - accuracy: 0.7367 - loss: 0.4727 - val_accuracy: 0.7419 - val_loss: 0.4518\n",
      "Epoch 192/300\n",
      "\u001b[1m81/81\u001b[0m \u001b[32m━━━━━━━━━━━━━━━━━━━━\u001b[0m\u001b[37m\u001b[0m \u001b[1m0s\u001b[0m 763us/step - accuracy: 0.7425 - loss: 0.4643 - val_accuracy: 0.7292 - val_loss: 0.4698\n",
      "Epoch 193/300\n",
      "\u001b[1m81/81\u001b[0m \u001b[32m━━━━━━━━━━━━━━━━━━━━\u001b[0m\u001b[37m\u001b[0m \u001b[1m0s\u001b[0m 2ms/step - accuracy: 0.7189 - loss: 0.4808 - val_accuracy: 0.7422 - val_loss: 0.4528\n",
      "Epoch 194/300\n",
      "\u001b[1m81/81\u001b[0m \u001b[32m━━━━━━━━━━━━━━━━━━━━\u001b[0m\u001b[37m\u001b[0m \u001b[1m0s\u001b[0m 797us/step - accuracy: 0.7366 - loss: 0.4808 - val_accuracy: 0.7380 - val_loss: 0.4537\n",
      "Epoch 195/300\n",
      "\u001b[1m81/81\u001b[0m \u001b[32m━━━━━━━━━━━━━━━━━━━━\u001b[0m\u001b[37m\u001b[0m \u001b[1m0s\u001b[0m 784us/step - accuracy: 0.7428 - loss: 0.4676 - val_accuracy: 0.7378 - val_loss: 0.4529\n",
      "Epoch 196/300\n",
      "\u001b[1m81/81\u001b[0m \u001b[32m━━━━━━━━━━━━━━━━━━━━\u001b[0m\u001b[37m\u001b[0m \u001b[1m0s\u001b[0m 799us/step - accuracy: 0.7522 - loss: 0.4529 - val_accuracy: 0.7594 - val_loss: 0.4504\n",
      "Epoch 197/300\n",
      "\u001b[1m81/81\u001b[0m \u001b[32m━━━━━━━━━━━━━━━━━━━━\u001b[0m\u001b[37m\u001b[0m \u001b[1m0s\u001b[0m 795us/step - accuracy: 0.7420 - loss: 0.4659 - val_accuracy: 0.7354 - val_loss: 0.4534\n",
      "Epoch 198/300\n",
      "\u001b[1m81/81\u001b[0m \u001b[32m━━━━━━━━━━━━━━━━━━━━\u001b[0m\u001b[37m\u001b[0m \u001b[1m0s\u001b[0m 781us/step - accuracy: 0.7326 - loss: 0.4630 - val_accuracy: 0.7565 - val_loss: 0.4547\n",
      "Epoch 199/300\n",
      "\u001b[1m81/81\u001b[0m \u001b[32m━━━━━━━━━━━━━━━━━━━━\u001b[0m\u001b[37m\u001b[0m \u001b[1m0s\u001b[0m 813us/step - accuracy: 0.7500 - loss: 0.4631 - val_accuracy: 0.7645 - val_loss: 0.4530\n",
      "Epoch 200/300\n",
      "\u001b[1m81/81\u001b[0m \u001b[32m━━━━━━━━━━━━━━━━━━━━\u001b[0m\u001b[37m\u001b[0m \u001b[1m0s\u001b[0m 755us/step - accuracy: 0.7408 - loss: 0.4749 - val_accuracy: 0.7487 - val_loss: 0.4532\n",
      "Epoch 201/300\n",
      "\u001b[1m81/81\u001b[0m \u001b[32m━━━━━━━━━━━━━━━━━━━━\u001b[0m\u001b[37m\u001b[0m \u001b[1m0s\u001b[0m 775us/step - accuracy: 0.7458 - loss: 0.4687 - val_accuracy: 0.7262 - val_loss: 0.4550\n",
      "Epoch 202/300\n",
      "\u001b[1m81/81\u001b[0m \u001b[32m━━━━━━━━━━━━━━━━━━━━\u001b[0m\u001b[37m\u001b[0m \u001b[1m0s\u001b[0m 766us/step - accuracy: 0.7237 - loss: 0.4816 - val_accuracy: 0.7680 - val_loss: 0.4586\n",
      "Epoch 203/300\n",
      "\u001b[1m81/81\u001b[0m \u001b[32m━━━━━━━━━━━━━━━━━━━━\u001b[0m\u001b[37m\u001b[0m \u001b[1m0s\u001b[0m 812us/step - accuracy: 0.7432 - loss: 0.4747 - val_accuracy: 0.7567 - val_loss: 0.4552\n",
      "Epoch 204/300\n",
      "\u001b[1m81/81\u001b[0m \u001b[32m━━━━━━━━━━━━━━━━━━━━\u001b[0m\u001b[37m\u001b[0m \u001b[1m0s\u001b[0m 773us/step - accuracy: 0.7284 - loss: 0.4667 - val_accuracy: 0.7372 - val_loss: 0.4560\n",
      "Epoch 205/300\n",
      "\u001b[1m81/81\u001b[0m \u001b[32m━━━━━━━━━━━━━━━━━━━━\u001b[0m\u001b[37m\u001b[0m \u001b[1m0s\u001b[0m 797us/step - accuracy: 0.7388 - loss: 0.4590 - val_accuracy: 0.7582 - val_loss: 0.4556\n",
      "Epoch 206/300\n",
      "\u001b[1m81/81\u001b[0m \u001b[32m━━━━━━━━━━━━━━━━━━━━\u001b[0m\u001b[37m\u001b[0m \u001b[1m0s\u001b[0m 2ms/step - accuracy: 0.7344 - loss: 0.4718 - val_accuracy: 0.7354 - val_loss: 0.4585\n",
      "Epoch 207/300\n",
      "\u001b[1m81/81\u001b[0m \u001b[32m━━━━━━━━━━━━━━━━━━━━\u001b[0m\u001b[37m\u001b[0m \u001b[1m0s\u001b[0m 800us/step - accuracy: 0.7246 - loss: 0.4680 - val_accuracy: 0.7567 - val_loss: 0.4562\n",
      "Epoch 208/300\n",
      "\u001b[1m81/81\u001b[0m \u001b[32m━━━━━━━━━━━━━━━━━━━━\u001b[0m\u001b[37m\u001b[0m \u001b[1m0s\u001b[0m 757us/step - accuracy: 0.7257 - loss: 0.4741 - val_accuracy: 0.7553 - val_loss: 0.4555\n",
      "Epoch 209/300\n",
      "\u001b[1m81/81\u001b[0m \u001b[32m━━━━━━━━━━━━━━━━━━━━\u001b[0m\u001b[37m\u001b[0m \u001b[1m0s\u001b[0m 778us/step - accuracy: 0.7502 - loss: 0.4714 - val_accuracy: 0.7510 - val_loss: 0.4543\n",
      "Epoch 210/300\n",
      "\u001b[1m81/81\u001b[0m \u001b[32m━━━━━━━━━━━━━━━━━━━━\u001b[0m\u001b[37m\u001b[0m \u001b[1m0s\u001b[0m 709us/step - accuracy: 0.7283 - loss: 0.4739 - val_accuracy: 0.7596 - val_loss: 0.4570\n",
      "Epoch 211/300\n",
      "\u001b[1m81/81\u001b[0m \u001b[32m━━━━━━━━━━━━━━━━━━━━\u001b[0m\u001b[37m\u001b[0m \u001b[1m0s\u001b[0m 802us/step - accuracy: 0.7239 - loss: 0.4897 - val_accuracy: 0.7625 - val_loss: 0.4541\n",
      "Epoch 212/300\n",
      "\u001b[1m81/81\u001b[0m \u001b[32m━━━━━━━━━━━━━━━━━━━━\u001b[0m\u001b[37m\u001b[0m \u001b[1m0s\u001b[0m 782us/step - accuracy: 0.7396 - loss: 0.4705 - val_accuracy: 0.7340 - val_loss: 0.4607\n",
      "Epoch 213/300\n",
      "\u001b[1m81/81\u001b[0m \u001b[32m━━━━━━━━━━━━━━━━━━━━\u001b[0m\u001b[37m\u001b[0m \u001b[1m0s\u001b[0m 782us/step - accuracy: 0.7209 - loss: 0.4792 - val_accuracy: 0.7368 - val_loss: 0.4592\n",
      "Epoch 214/300\n",
      "\u001b[1m81/81\u001b[0m \u001b[32m━━━━━━━━━━━━━━━━━━━━\u001b[0m\u001b[37m\u001b[0m \u001b[1m0s\u001b[0m 807us/step - accuracy: 0.7495 - loss: 0.4571 - val_accuracy: 0.7301 - val_loss: 0.4672\n",
      "Epoch 215/300\n",
      "\u001b[1m81/81\u001b[0m \u001b[32m━━━━━━━━━━━━━━━━━━━━\u001b[0m\u001b[37m\u001b[0m \u001b[1m0s\u001b[0m 810us/step - accuracy: 0.7221 - loss: 0.4769 - val_accuracy: 0.7280 - val_loss: 0.4620\n",
      "Epoch 216/300\n",
      "\u001b[1m81/81\u001b[0m \u001b[32m━━━━━━━━━━━━━━━━━━━━\u001b[0m\u001b[37m\u001b[0m \u001b[1m0s\u001b[0m 768us/step - accuracy: 0.7273 - loss: 0.4774 - val_accuracy: 0.7194 - val_loss: 0.4582\n",
      "Epoch 216: early stopping\n"
     ]
    },
    {
     "data": {
      "text/plain": [
       "<keras.src.callbacks.history.History at 0x15e4f9b50>"
      ]
     },
     "execution_count": 26,
     "metadata": {},
     "output_type": "execute_result"
    }
   ],
   "source": [
    "model.fit(\n",
    "    x=X_train, \n",
    "    y=y_cat_train, \n",
    "    epochs=300,\n",
    "    validation_data=(X_test, y_cat_test),\n",
    "    verbose=1,\n",
    "    batch_size=64,\n",
    "    callbacks=[early_stop]\n",
    ")"
   ]
  },
  {
   "cell_type": "markdown",
   "id": "12bc5a7e-3b97-4855-bb05-8efce8f95028",
   "metadata": {},
   "source": [
    "Let's plot the Loss vs Epoch chart."
   ]
  },
  {
   "cell_type": "code",
   "execution_count": 27,
   "id": "ecbd08e4-ee0e-4935-8cf0-f44192dfca5e",
   "metadata": {},
   "outputs": [
    {
     "data": {
      "text/plain": [
       "<Axes: >"
      ]
     },
     "execution_count": 27,
     "metadata": {},
     "output_type": "execute_result"
    }
   ],
   "source": [
    "model_loss = pd.DataFrame(model.history.history)\n",
    "model_loss[['loss','val_loss']].plot()"
   ]
  },
  {
   "cell_type": "markdown",
   "id": "d422d683-2c6c-4c96-a531-657392beeac8",
   "metadata": {},
   "source": [
    "Let's evaluate the trained model."
   ]
  },
  {
   "cell_type": "code",
   "execution_count": 28,
   "id": "a54d0421-1daf-4999-87dc-214c50df266c",
   "metadata": {},
   "outputs": [
    {
     "name": "stdout",
     "output_type": "stream",
     "text": [
      "\u001b[1m161/161\u001b[0m \u001b[32m━━━━━━━━━━━━━━━━━━━━\u001b[0m\u001b[37m\u001b[0m \u001b[1m0s\u001b[0m 735us/step - accuracy: 0.7266 - loss: 0.4499\n",
      "Loss, Accuracy:  [0.45819780230522156, 0.7194146513938904]\n"
     ]
    }
   ],
   "source": [
    "print(\"Loss, Accuracy: \", model.evaluate(X_test, y_cat_test))"
   ]
  },
  {
   "cell_type": "code",
   "execution_count": 29,
   "id": "b9b09b21-86f5-487f-8f79-0010d61653d7",
   "metadata": {},
   "outputs": [
    {
     "name": "stdout",
     "output_type": "stream",
     "text": [
      "\u001b[1m161/161\u001b[0m \u001b[32m━━━━━━━━━━━━━━━━━━━━\u001b[0m\u001b[37m\u001b[0m \u001b[1m0s\u001b[0m 301us/step\n",
      "F1-score:  0.713199188916384\n"
     ]
    }
   ],
   "source": [
    "print(\"F1-score: \", f1_score(y_test, np.argmax(model.predict(X_test), axis=1), average='weighted'))"
   ]
  },
  {
   "cell_type": "markdown",
   "id": "b3b85336-b5cf-414b-8be5-ff733efa75c4",
   "metadata": {},
   "source": [
    "With a simple NN model a F1-score of approximately 70% was achieved.\n",
    "\n",
    "There is always room for model fine-tuning, optimizations and futher model improvements."
   ]
  }
 ],
 "metadata": {
  "kernelspec": {
   "display_name": "Python 3 (ipykernel)",
   "language": "python",
   "name": "python3"
  },
  "language_info": {
   "codemirror_mode": {
    "name": "ipython",
    "version": 3
   },
   "file_extension": ".py",
   "mimetype": "text/x-python",
   "name": "python",
   "nbconvert_exporter": "python",
   "pygments_lexer": "ipython3",
   "version": "3.12.4"
  }
 },
 "nbformat": 4,
 "nbformat_minor": 5
}
