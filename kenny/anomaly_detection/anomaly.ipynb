{
 "cells": [
  {
   "cell_type": "code",
   "execution_count": 10,
   "metadata": {},
   "outputs": [],
   "source": [
    "import numpy as np\n",
    "import pandas as pd\n",
    "from typing import Tuple\n",
    "from sklearn.preprocessing import MinMaxScaler\n",
    "from sklearn.model_selection import train_test_split\n",
    "from functools import reduce\n",
    "import torch\n",
    "import torch.nn as nn\n",
    "import torch.nn.functional as F\n",
    "from torch.utils.data import DataLoader, TensorDataset"
   ]
  },
  {
   "cell_type": "code",
   "execution_count": 11,
   "metadata": {},
   "outputs": [],
   "source": [
    "class Net(nn.Module):\n",
    "    \"\"\"Dense Neural Network for Anomaly Detection.\"\"\"\n",
    "    def __init__(self, input_dim) -> None:\n",
    "        super(Net, self).__init__()\n",
    "        self.fc1 = nn.Linear(input_dim, 200)\n",
    "        self.fc2 = nn.Linear(200, 1)\n",
    "\n",
    "    def forward(self, x: torch.Tensor) -> torch.Tensor:\n",
    "        x = F.relu(self.fc1(x))\n",
    "        x = torch.sigmoid(self.fc2(x))\n",
    "        return x\n"
   ]
  },
  {
   "cell_type": "code",
   "execution_count": 12,
   "metadata": {},
   "outputs": [],
   "source": [
    "def load_data(csv_path: str, which_cell: int = 0, window_len: int = 96) -> tuple:\n",
    "    dataset_train = pd.read_csv(csv_path)\n",
    "    train_data = dataset_train.values\n",
    "\n",
    "    # Initialize arrays to store anomaly and load data for up to 6 clients\n",
    "    anomaly_data = np.zeros((6, 3, 5, 16608))\n",
    "    load_data = np.zeros((6, 3, 5, 16608))\n",
    "\n",
    "    # Splitting the dataset into cell-, category-, and device-specific data\n",
    "    for cell in range(6):\n",
    "     for category in range(3):\n",
    "        for device in range(5):\n",
    "            rows = reduce(np.intersect1d, (np.where(train_data[:, 1] == cell),\n",
    "                                           np.where(train_data[:, 2] == category),\n",
    "                                           np.where(train_data[:, 3] == device)))\n",
    "            if len(rows) > 0:\n",
    "                load_data[cell, category, device] = train_data[rows, 4]\n",
    "                anomaly_data[cell, category, device] = train_data[rows, 5]\n",
    "\n",
    "\n",
    "    # Aggregate load and anomaly data for the selected cell\n",
    "    load_set = np.sum(np.sum(load_data[which_cell, :, :, :], axis=0), axis=0)\n",
    "    anomaly_set = np.sum(np.sum(anomaly_data[which_cell, :, :, :], axis=0), axis=0)\n",
    "    anomaly_set[anomaly_set != 0] = 1\n",
    "\n",
    "    sc = MinMaxScaler(feature_range=(0, 1))\n",
    "    load_set_scaled = sc.fit_transform(load_set.reshape(-1, 1))\n",
    "\n",
    "    X, y = [], []\n",
    "    for i in range(window_len, len(load_set_scaled)):\n",
    "        X.append(load_set_scaled[i-window_len:i, 0])\n",
    "        y.append(anomaly_set[i])\n",
    "    X, y = np.array(X), np.array(y)\n",
    "\n",
    "    X_train, X_test, y_train, y_test = train_test_split(X, y, test_size=0.2, random_state=42)\n",
    "\n",
    "    train_dataset = TensorDataset(torch.FloatTensor(X_train), torch.FloatTensor(y_train))\n",
    "    test_dataset = TensorDataset(torch.FloatTensor(X_test), torch.FloatTensor(y_test))\n",
    "\n",
    "    train_loader = DataLoader(dataset=train_dataset, batch_size=32, shuffle=True)\n",
    "    test_loader = DataLoader(dataset=test_dataset, batch_size=32)\n",
    "\n",
    "    return train_loader, test_loader\n",
    "\n",
    "\n",
    "   "
   ]
  },
  {
   "cell_type": "code",
   "execution_count": 13,
   "metadata": {},
   "outputs": [],
   "source": [
    "def train(net: Net, trainloader: DataLoader, epochs: int, device: torch.device) -> float:\n",
    "    criterion = nn.BCELoss()\n",
    "    optimizer = torch.optim.Adam(net.parameters(), lr=0.001)\n",
    "    net.to(device)\n",
    "    net.train()\n",
    "    \n",
    "    total_loss = 0\n",
    "    for epoch in range(epochs):\n",
    "        for inputs, labels in trainloader:\n",
    "            inputs, labels = inputs.to(device), labels.to(device).unsqueeze(1)\n",
    "            optimizer.zero_grad()\n",
    "            outputs = net(inputs)\n",
    "            loss = criterion(outputs, labels)\n",
    "            loss.backward()\n",
    "            optimizer.step()\n",
    "            total_loss += loss.item()\n",
    "    average_loss = total_loss / (len(trainloader.dataset) * epochs)\n",
    "    return average_loss"
   ]
  },
  {
   "cell_type": "code",
   "execution_count": 14,
   "metadata": {},
   "outputs": [],
   "source": [
    "def test(net: Net, testloader: DataLoader, device: torch.device) -> Tuple[float, float]:\n",
    "    criterion = nn.BCELoss()\n",
    "    net.eval()\n",
    "    \n",
    "    total_loss, correct, total = 0.0, 0, 0\n",
    "    with torch.no_grad():\n",
    "        for inputs, labels in testloader:\n",
    "            inputs, labels = inputs.to(device), labels.to(device).unsqueeze(1)\n",
    "            outputs = net(inputs)\n",
    "            loss = criterion(outputs, labels)\n",
    "            total_loss += loss.item()\n",
    "            predicted = (outputs > 0.5).float()\n",
    "            correct += (predicted == labels).sum().item()\n",
    "            total += labels.size(0)\n",
    "    average_loss = total_loss / len(testloader.dataset)\n",
    "    accuracy = correct / total\n",
    "    return average_loss, accuracy"
   ]
  },
  {
   "cell_type": "code",
   "execution_count": 15,
   "metadata": {},
   "outputs": [
    {
     "name": "stdout",
     "output_type": "stream",
     "text": [
      "Centralized PyTorch training\n",
      "Load data\n",
      "Start training\n",
      "Evaluate model\n",
      "Loss:  0.005345054294506853\n",
      "Accuracy:  0.9261277626400242\n"
     ]
    }
   ],
   "source": [
    "def main():\n",
    "    DEVICE = torch.device(\"cuda\" if torch.cuda.is_available() else \"cpu\")\n",
    "    csv_path = './data/cell_data.csv'\n",
    "\n",
    "    print(\"Centralized PyTorch training\")\n",
    "    print(\"Load data\")\n",
    "\n",
    "    trainloader, testloader = load_data(csv_path)\n",
    "    net = Net(input_dim=96).to(DEVICE)\n",
    "    net.eval()\n",
    "\n",
    "    print(\"Start training\")\n",
    "    train(net=net, trainloader=trainloader, epochs=100, device=DEVICE)\n",
    "\n",
    "    print(\"Evaluate model\")\n",
    "    loss, accuracy = test(net=net, testloader=testloader, device=DEVICE)\n",
    "\n",
    "    print(\"Loss: \", loss)\n",
    "    print(\"Accuracy: \", accuracy)\n",
    "\n",
    "if __name__ == \"__main__\":\n",
    "    main()"
   ]
  }
 ],
 "metadata": {
  "kernelspec": {
   "display_name": "base",
   "language": "python",
   "name": "python3"
  },
  "language_info": {
   "codemirror_mode": {
    "name": "ipython",
    "version": 3
   },
   "file_extension": ".py",
   "mimetype": "text/x-python",
   "name": "python",
   "nbconvert_exporter": "python",
   "pygments_lexer": "ipython3",
   "version": "3.12.4"
  }
 },
 "nbformat": 4,
 "nbformat_minor": 2
}
