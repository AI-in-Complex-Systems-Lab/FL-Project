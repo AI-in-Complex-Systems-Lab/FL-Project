{
 "cells": [
  {
   "cell_type": "code",
   "execution_count": 1,
   "metadata": {},
   "outputs": [
    {
     "name": "stdout",
     "output_type": "stream",
     "text": [
      "Note: you may need to restart the kernel to use updated packages.\n",
      "Note: you may need to restart the kernel to use updated packages.\n",
      "\u001b[31mERROR: Could not find a version that satisfies the requirement tensorflow-cpu (from versions: none)\u001b[0m\u001b[31m\n",
      "\u001b[0m\u001b[31mERROR: No matching distribution found for tensorflow-cpu\u001b[0m\u001b[31m\n",
      "\u001b[0mNote: you may need to restart the kernel to use updated packages.\n",
      "\u001b[31mERROR: Could not find a version that satisfies the requirement tensorflow-cpu==2.14.1 (from versions: none)\u001b[0m\u001b[31m\n",
      "\u001b[0m\u001b[31mERROR: No matching distribution found for tensorflow-cpu==2.14.1\u001b[0m\u001b[31m\n",
      "\u001b[0mNote: you may need to restart the kernel to use updated packages.\n",
      "Note: you may need to restart the kernel to use updated packages.\n",
      "Note: you may need to restart the kernel to use updated packages.\n",
      "Note: you may need to restart the kernel to use updated packages.\n",
      "Note: you may need to restart the kernel to use updated packages.\n"
     ]
    }
   ],
   "source": [
    "%pip install --quiet --upgrade flwr==1.5.0\n",
    "%pip install --quiet --upgrade tensorflow\n",
    "%pip install --quiet --upgrade tensorflow-cpu\n",
    "%pip install --quiet --upgrade tensorflow-cpu==2.14.1\n",
    "%pip install --quiet --upgrade scikit-learn\n",
    "%pip install --quiet --upgrade pandas\n",
    "%pip install --quiet --upgrade matplotlib\n",
    "%pip install --quiet --upgrade git+https://github.com/nepiskopos/py7zr.git"
   ]
  },
  {
   "cell_type": "code",
   "execution_count": 2,
   "metadata": {},
   "outputs": [],
   "source": [
    "import errno\n",
    "import os\n",
    "import py7zr\n",
    "import re\n",
    "import shutil\n",
    "import sys\n",
    "import time\n",
    "import urllib\n",
    "\n",
    "\n",
    "def reporthook(count, block_size, total_size):\n",
    "    global start_time\n",
    "    if count == 0:\n",
    "        start_time = time.time()\n",
    "        return\n",
    "    duration = time.time() - start_time\n",
    "    progress_size = int(count * block_size)\n",
    "    speed = int(progress_size / (1024 * duration))\n",
    "    percent = int(count * block_size * 100 / total_size)\n",
    "    sys.stdout.write(\"\\r...%d%%, %d MB, %d KB/s, %d seconds passed\" %\n",
    "                    (percent, progress_size / (1024 * 1024), speed, duration))\n",
    "    sys.stdout.flush()\n",
    "\n",
    "def download(url, filename):\n",
    "    urllib.request.urlretrieve(url, filename, reporthook)\n",
    "\n",
    "def extract(archive, target_dir):\n",
    "    archive = py7zr.SevenZipFile(archive, mode='r')\n",
    "    try:\n",
    "        os.makedirs(target_dir)\n",
    "        \n",
    "        archive.extractall(path=target_dir)\n",
    "        archive.close()\n",
    "        \n",
    "        print(f\"Archive '{archive}' extracted successfully!\")\n",
    "    except OSError as e:\n",
    "        if e.errno == errno.EEXIST:\n",
    "            archive.extractall(path=target_dir)\n",
    "            archive.close()\n",
    "            \n",
    "            print(f\"Archive '{archive}' extracted successfully!\")\n",
    "        else:\n",
    "            print(f\"Archive '{archive}' failed to extract...\")\n",
    "\n",
    "\n",
    "base_data_dir = './datasets'\n",
    "\n",
    "if not os.path.isdir(os.path.join(base_data_dir, 'Balanced_IEC104_Train_Test_CSV_Files')):\n",
    "    filename = 'Balanced_IEC104_Train_Test_CSV_Files.7z'\n",
    "    \n",
    "    if not py7zr.is_7zfile(filename):\n",
    "        url = ('https://zenodo.org/records/7108614/files/Balanced_IEC104_Train_Test_CSV_Files.7z?download=1')\n",
    "        download(url, filename)\n",
    "    \n",
    "    extract(filename, base_data_dir)\n",
    "\n",
    "    innerDirs = os.listdir(base_data_dir)\n",
    "    for dir in innerDirs:\n",
    "        if (re.search('2020*', dir)):\n",
    "            shutil.rmtree(os.path.join(base_data_dir, dir))\n",
    "    \n",
    "    os.remove(os.path.join('.', filename))"
   ]
  },
  {
   "cell_type": "code",
   "execution_count": 3,
   "metadata": {},
   "outputs": [],
   "source": [
    "import collections\n",
    "import numpy as np\n",
    "import pandas as pd\n",
    "from matplotlib import pyplot as plt\n",
    "\n",
    "pd.set_option('future.no_silent_downcasting', True)\n",
    "\n",
    "%matplotlib inline"
   ]
  },
  {
   "cell_type": "code",
   "execution_count": 4,
   "metadata": {},
   "outputs": [],
   "source": [
    "tp = 'cic'      # Type: dataset type (CICFlowMeter or Custom Python parser), choose between 'cic' and 'custom'\n",
    "#tm = 180        # Timeout: data flow timeout, choose a value from the following list [15, 30, 60, 90, 120, 180]\n",
    "n_workers = 3   # N: number of federated workers, choose between 3 and 5"
   ]
  },
  {
   "cell_type": "code",
   "execution_count": 5,
   "metadata": {},
   "outputs": [],
   "source": [
    "assert tp in ('cic', 'custom'), \"Wrong dataset type, choose between 'cic' and 'custom'\"\n",
    "#assert tm in (15, 30, 60, 90, 120, 180), \"Wrong time, choose a value from the following list [15, 30, 60, 90, 120, 180]\"\n",
    "assert n_workers in (3, 4, 5), \"Wrong number of workers, choose between 3 and 5\""
   ]
  },
  {
   "cell_type": "code",
   "execution_count": 6,
   "metadata": {},
   "outputs": [
    {
     "ename": "NameError",
     "evalue": "name 'tm' is not defined",
     "output_type": "error",
     "traceback": [
      "\u001b[0;31m---------------------------------------------------------------------------\u001b[0m",
      "\u001b[0;31mNameError\u001b[0m                                 Traceback (most recent call last)",
      "Cell \u001b[0;32mIn[6], line 2\u001b[0m\n\u001b[1;32m      1\u001b[0m path \u001b[38;5;241m=\u001b[39m os\u001b[38;5;241m.\u001b[39mpath\u001b[38;5;241m.\u001b[39mjoin(base_data_dir, \u001b[38;5;124m'\u001b[39m\u001b[38;5;124mBalanced_IEC104_Train_Test_CSV_Files/iec104_train_test_csvs\u001b[39m\u001b[38;5;124m'\u001b[39m)\n\u001b[0;32m----> 2\u001b[0m dataset \u001b[38;5;241m=\u001b[39m \u001b[38;5;124mf\u001b[39m\u001b[38;5;124m'\u001b[39m\u001b[38;5;124mtests_\u001b[39m\u001b[38;5;132;01m{\u001b[39;00mtp\u001b[38;5;132;01m}\u001b[39;00m\u001b[38;5;124m_\u001b[39m\u001b[38;5;132;01m{\u001b[39;00m\u001b[43mtm\u001b[49m\u001b[38;5;132;01m}\u001b[39;00m\u001b[38;5;124m'\u001b[39m\n\u001b[1;32m      4\u001b[0m \u001b[38;5;28;01mif\u001b[39;00m \u001b[38;5;124m'\u001b[39m\u001b[38;5;124mcic\u001b[39m\u001b[38;5;124m'\u001b[39m \u001b[38;5;129;01min\u001b[39;00m dataset:\n\u001b[1;32m      5\u001b[0m     n \u001b[38;5;241m=\u001b[39m dataset\u001b[38;5;241m.\u001b[39msplit(\u001b[38;5;124m'\u001b[39m\u001b[38;5;124m_\u001b[39m\u001b[38;5;124m'\u001b[39m)[\u001b[38;5;241m-\u001b[39m\u001b[38;5;241m1\u001b[39m]\n",
      "\u001b[0;31mNameError\u001b[0m: name 'tm' is not defined"
     ]
    }
   ],
   "source": [
    "path = os.path.join(base_data_dir, 'Balanced_IEC104_Train_Test_CSV_Files/iec104_train_test_csvs')\n",
    "dataset = f'tests_{tp}_{tm}'\n",
    "\n",
    "if 'cic' in dataset:\n",
    "    n = dataset.split('_')[-1]\n",
    "    train_csv = os.path.join(os.path.join(path, dataset), f'train_{tm}_cicflow.csv')\n",
    "    test_csv = os.path.join(os.path.join(path, dataset), f'test_{tm}_cicflow.csv')\n",
    "elif 'custom' in dataset:\n",
    "    n = dataset.split('_')\n",
    "    train_csv = os.path.join(os.path.join(path, dataset), f'train_{tm}_custom_script.csv')\n",
    "    test_csv = os.path.join(os.path.join(path, dataset), f'test_{tm}_custom_script.csv')\n",
    "else:\n",
    "    raise Exception(\"Wrong dataset\")\n",
    "\n",
    "df_train = pd.read_csv(train_csv)\n",
    "df_test = pd.read_csv(train_csv)"
   ]
  },
  {
   "cell_type": "code",
   "execution_count": null,
   "metadata": {},
   "outputs": [
    {
     "name": "stdout",
     "output_type": "stream",
     "text": [
      "<class 'pandas.core.frame.DataFrame'>\n",
      "RangeIndex: 3588 entries, 0 to 3587\n",
      "Data columns (total 84 columns):\n",
      " #   Column             Non-Null Count  Dtype  \n",
      "---  ------             --------------  -----  \n",
      " 0   Flow ID            3588 non-null   object \n",
      " 1   Src IP             3588 non-null   object \n",
      " 2   Src Port           3588 non-null   int64  \n",
      " 3   Dst IP             3588 non-null   object \n",
      " 4   Dst Port           3588 non-null   int64  \n",
      " 5   Protocol           3588 non-null   int64  \n",
      " 6   Timestamp          3588 non-null   object \n",
      " 7   Flow Duration      3588 non-null   int64  \n",
      " 8   Tot Fwd Pkts       3588 non-null   int64  \n",
      " 9   Tot Bwd Pkts       3588 non-null   int64  \n",
      " 10  TotLen Fwd Pkts    3588 non-null   int64  \n",
      " 11  TotLen Bwd Pkts    3588 non-null   int64  \n",
      " 12  Fwd Pkt Len Max    3588 non-null   int64  \n",
      " 13  Fwd Pkt Len Min    3588 non-null   int64  \n",
      " 14  Fwd Pkt Len Mean   3588 non-null   float64\n",
      " 15  Fwd Pkt Len Std    3588 non-null   float64\n",
      " 16  Bwd Pkt Len Max    3588 non-null   int64  \n",
      " 17  Bwd Pkt Len Min    3588 non-null   int64  \n",
      " 18  Bwd Pkt Len Mean   3588 non-null   float64\n",
      " 19  Bwd Pkt Len Std    3588 non-null   float64\n",
      " 20  Flow Byts/s        3588 non-null   float64\n",
      " 21  Flow Pkts/s        3588 non-null   float64\n",
      " 22  Flow IAT Mean      3588 non-null   float64\n",
      " 23  Flow IAT Std       3588 non-null   float64\n",
      " 24  Flow IAT Max       3588 non-null   int64  \n",
      " 25  Flow IAT Min       3588 non-null   int64  \n",
      " 26  Fwd IAT Tot        3588 non-null   int64  \n",
      " 27  Fwd IAT Mean       3588 non-null   float64\n",
      " 28  Fwd IAT Std        3588 non-null   float64\n",
      " 29  Fwd IAT Max        3588 non-null   int64  \n",
      " 30  Fwd IAT Min        3588 non-null   int64  \n",
      " 31  Bwd IAT Tot        3588 non-null   int64  \n",
      " 32  Bwd IAT Mean       3588 non-null   float64\n",
      " 33  Bwd IAT Std        3588 non-null   float64\n",
      " 34  Bwd IAT Max        3588 non-null   int64  \n",
      " 35  Bwd IAT Min        3588 non-null   int64  \n",
      " 36  Fwd PSH Flags      3588 non-null   int64  \n",
      " 37  Bwd PSH Flags      3588 non-null   int64  \n",
      " 38  Fwd URG Flags      3588 non-null   int64  \n",
      " 39  Bwd URG Flags      3588 non-null   int64  \n",
      " 40  Fwd Header Len     3588 non-null   int64  \n",
      " 41  Bwd Header Len     3588 non-null   int64  \n",
      " 42  Fwd Pkts/s         3588 non-null   float64\n",
      " 43  Bwd Pkts/s         3588 non-null   float64\n",
      " 44  Pkt Len Min        3588 non-null   int64  \n",
      " 45  Pkt Len Max        3588 non-null   int64  \n",
      " 46  Pkt Len Mean       3588 non-null   float64\n",
      " 47  Pkt Len Std        3588 non-null   float64\n",
      " 48  Pkt Len Var        3588 non-null   float64\n",
      " 49  FIN Flag Cnt       3588 non-null   int64  \n",
      " 50  SYN Flag Cnt       3588 non-null   int64  \n",
      " 51  RST Flag Cnt       3588 non-null   int64  \n",
      " 52  PSH Flag Cnt       3588 non-null   int64  \n",
      " 53  ACK Flag Cnt       3588 non-null   int64  \n",
      " 54  URG Flag Cnt       3588 non-null   int64  \n",
      " 55  CWE Flag Count     3588 non-null   int64  \n",
      " 56  ECE Flag Cnt       3588 non-null   int64  \n",
      " 57  Down/Up Ratio      3588 non-null   int64  \n",
      " 58  Pkt Size Avg       3588 non-null   float64\n",
      " 59  Fwd Seg Size Avg   3588 non-null   float64\n",
      " 60  Bwd Seg Size Avg   3588 non-null   float64\n",
      " 61  Fwd Byts/b Avg     3588 non-null   int64  \n",
      " 62  Fwd Pkts/b Avg     3588 non-null   int64  \n",
      " 63  Fwd Blk Rate Avg   3588 non-null   int64  \n",
      " 64  Bwd Byts/b Avg     3588 non-null   int64  \n",
      " 65  Bwd Pkts/b Avg     3588 non-null   int64  \n",
      " 66  Bwd Blk Rate Avg   3588 non-null   int64  \n",
      " 67  Subflow Fwd Pkts   3588 non-null   int64  \n",
      " 68  Subflow Fwd Byts   3588 non-null   int64  \n",
      " 69  Subflow Bwd Pkts   3588 non-null   int64  \n",
      " 70  Subflow Bwd Byts   3588 non-null   int64  \n",
      " 71  Init Fwd Win Byts  3588 non-null   int64  \n",
      " 72  Init Bwd Win Byts  3588 non-null   int64  \n",
      " 73  Fwd Act Data Pkts  3588 non-null   int64  \n",
      " 74  Fwd Seg Size Min   3588 non-null   int64  \n",
      " 75  Active Mean        3588 non-null   float64\n",
      " 76  Active Std         3588 non-null   float64\n",
      " 77  Active Max         3588 non-null   int64  \n",
      " 78  Active Min         3588 non-null   int64  \n",
      " 79  Idle Mean          3588 non-null   float64\n",
      " 80  Idle Std           3588 non-null   float64\n",
      " 81  Idle Max           3588 non-null   int64  \n",
      " 82  Idle Min           3588 non-null   int64  \n",
      " 83  Label              3588 non-null   object \n",
      "dtypes: float64(24), int64(55), object(5)\n",
      "memory usage: 2.3+ MB\n"
     ]
    }
   ],
   "source": [
    "df_train.info()"
   ]
  },
  {
   "cell_type": "code",
   "execution_count": null,
   "metadata": {},
   "outputs": [
    {
     "name": "stdout",
     "output_type": "stream",
     "text": [
      "<class 'pandas.core.frame.DataFrame'>\n",
      "RangeIndex: 3588 entries, 0 to 3587\n",
      "Data columns (total 84 columns):\n",
      " #   Column             Non-Null Count  Dtype  \n",
      "---  ------             --------------  -----  \n",
      " 0   Flow ID            3588 non-null   object \n",
      " 1   Src IP             3588 non-null   object \n",
      " 2   Src Port           3588 non-null   int64  \n",
      " 3   Dst IP             3588 non-null   object \n",
      " 4   Dst Port           3588 non-null   int64  \n",
      " 5   Protocol           3588 non-null   int64  \n",
      " 6   Timestamp          3588 non-null   object \n",
      " 7   Flow Duration      3588 non-null   int64  \n",
      " 8   Tot Fwd Pkts       3588 non-null   int64  \n",
      " 9   Tot Bwd Pkts       3588 non-null   int64  \n",
      " 10  TotLen Fwd Pkts    3588 non-null   int64  \n",
      " 11  TotLen Bwd Pkts    3588 non-null   int64  \n",
      " 12  Fwd Pkt Len Max    3588 non-null   int64  \n",
      " 13  Fwd Pkt Len Min    3588 non-null   int64  \n",
      " 14  Fwd Pkt Len Mean   3588 non-null   float64\n",
      " 15  Fwd Pkt Len Std    3588 non-null   float64\n",
      " 16  Bwd Pkt Len Max    3588 non-null   int64  \n",
      " 17  Bwd Pkt Len Min    3588 non-null   int64  \n",
      " 18  Bwd Pkt Len Mean   3588 non-null   float64\n",
      " 19  Bwd Pkt Len Std    3588 non-null   float64\n",
      " 20  Flow Byts/s        3588 non-null   float64\n",
      " 21  Flow Pkts/s        3588 non-null   float64\n",
      " 22  Flow IAT Mean      3588 non-null   float64\n",
      " 23  Flow IAT Std       3588 non-null   float64\n",
      " 24  Flow IAT Max       3588 non-null   int64  \n",
      " 25  Flow IAT Min       3588 non-null   int64  \n",
      " 26  Fwd IAT Tot        3588 non-null   int64  \n",
      " 27  Fwd IAT Mean       3588 non-null   float64\n",
      " 28  Fwd IAT Std        3588 non-null   float64\n",
      " 29  Fwd IAT Max        3588 non-null   int64  \n",
      " 30  Fwd IAT Min        3588 non-null   int64  \n",
      " 31  Bwd IAT Tot        3588 non-null   int64  \n",
      " 32  Bwd IAT Mean       3588 non-null   float64\n",
      " 33  Bwd IAT Std        3588 non-null   float64\n",
      " 34  Bwd IAT Max        3588 non-null   int64  \n",
      " 35  Bwd IAT Min        3588 non-null   int64  \n",
      " 36  Fwd PSH Flags      3588 non-null   int64  \n",
      " 37  Bwd PSH Flags      3588 non-null   int64  \n",
      " 38  Fwd URG Flags      3588 non-null   int64  \n",
      " 39  Bwd URG Flags      3588 non-null   int64  \n",
      " 40  Fwd Header Len     3588 non-null   int64  \n",
      " 41  Bwd Header Len     3588 non-null   int64  \n",
      " 42  Fwd Pkts/s         3588 non-null   float64\n",
      " 43  Bwd Pkts/s         3588 non-null   float64\n",
      " 44  Pkt Len Min        3588 non-null   int64  \n",
      " 45  Pkt Len Max        3588 non-null   int64  \n",
      " 46  Pkt Len Mean       3588 non-null   float64\n",
      " 47  Pkt Len Std        3588 non-null   float64\n",
      " 48  Pkt Len Var        3588 non-null   float64\n",
      " 49  FIN Flag Cnt       3588 non-null   int64  \n",
      " 50  SYN Flag Cnt       3588 non-null   int64  \n",
      " 51  RST Flag Cnt       3588 non-null   int64  \n",
      " 52  PSH Flag Cnt       3588 non-null   int64  \n",
      " 53  ACK Flag Cnt       3588 non-null   int64  \n",
      " 54  URG Flag Cnt       3588 non-null   int64  \n",
      " 55  CWE Flag Count     3588 non-null   int64  \n",
      " 56  ECE Flag Cnt       3588 non-null   int64  \n",
      " 57  Down/Up Ratio      3588 non-null   int64  \n",
      " 58  Pkt Size Avg       3588 non-null   float64\n",
      " 59  Fwd Seg Size Avg   3588 non-null   float64\n",
      " 60  Bwd Seg Size Avg   3588 non-null   float64\n",
      " 61  Fwd Byts/b Avg     3588 non-null   int64  \n",
      " 62  Fwd Pkts/b Avg     3588 non-null   int64  \n",
      " 63  Fwd Blk Rate Avg   3588 non-null   int64  \n",
      " 64  Bwd Byts/b Avg     3588 non-null   int64  \n",
      " 65  Bwd Pkts/b Avg     3588 non-null   int64  \n",
      " 66  Bwd Blk Rate Avg   3588 non-null   int64  \n",
      " 67  Subflow Fwd Pkts   3588 non-null   int64  \n",
      " 68  Subflow Fwd Byts   3588 non-null   int64  \n",
      " 69  Subflow Bwd Pkts   3588 non-null   int64  \n",
      " 70  Subflow Bwd Byts   3588 non-null   int64  \n",
      " 71  Init Fwd Win Byts  3588 non-null   int64  \n",
      " 72  Init Bwd Win Byts  3588 non-null   int64  \n",
      " 73  Fwd Act Data Pkts  3588 non-null   int64  \n",
      " 74  Fwd Seg Size Min   3588 non-null   int64  \n",
      " 75  Active Mean        3588 non-null   float64\n",
      " 76  Active Std         3588 non-null   float64\n",
      " 77  Active Max         3588 non-null   int64  \n",
      " 78  Active Min         3588 non-null   int64  \n",
      " 79  Idle Mean          3588 non-null   float64\n",
      " 80  Idle Std           3588 non-null   float64\n",
      " 81  Idle Max           3588 non-null   int64  \n",
      " 82  Idle Min           3588 non-null   int64  \n",
      " 83  Label              3588 non-null   object \n",
      "dtypes: float64(24), int64(55), object(5)\n",
      "memory usage: 2.3+ MB\n"
     ]
    }
   ],
   "source": [
    "df_test.info()"
   ]
  },
  {
   "cell_type": "code",
   "execution_count": null,
   "metadata": {},
   "outputs": [],
   "source": [
    "df_train['Label'] = df_train['Label'].str.lower()\n",
    "df_test['Label'] = df_test['Label'].str.lower()\n",
    "\n",
    "unique_labels = list(df_train.Label.astype('category').unique())\n",
    "unique_codes = list(df_train.Label.astype('category').cat.codes.unique())\n",
    "\n",
    "mapping = dict(zip(unique_labels, unique_codes))\n",
    "mapping_inv = dict(zip(unique_codes, unique_labels))"
   ]
  },
  {
   "cell_type": "code",
   "execution_count": null,
   "metadata": {},
   "outputs": [
    {
     "data": {
      "text/plain": [
       "{'normal': 11,\n",
       " 'c_ci_na_1': 0,\n",
       " 'c_ci_na_1_dos': 1,\n",
       " 'c_rd_na_1': 2,\n",
       " 'c_rd_na_1_dos': 3,\n",
       " 'c_rp_na_1': 4,\n",
       " 'c_rp_na_1_dos': 5,\n",
       " 'c_sc_na_1': 6,\n",
       " 'c_sc_na_1_dos': 7,\n",
       " 'c_se_na_1': 8,\n",
       " 'c_se_na_1_dos': 9,\n",
       " 'm_sp_na_1_dos': 10}"
      ]
     },
     "execution_count": 10,
     "metadata": {},
     "output_type": "execute_result"
    }
   ],
   "source": [
    "mapping"
   ]
  },
  {
   "cell_type": "code",
   "execution_count": null,
   "metadata": {},
   "outputs": [],
   "source": [
    "df_train['Label'] = df_train['Label'].astype('category').cat.rename_categories(mapping)\n",
    "df_test['Label'] = df_test['Label'].astype('category').cat.rename_categories(mapping)"
   ]
  },
  {
   "cell_type": "code",
   "execution_count": null,
   "metadata": {},
   "outputs": [],
   "source": [
    "if tp == 'cic':\n",
    "    train = df_train.iloc[:,7:]\n",
    "    test = df_test.iloc[:,7:]\n",
    "else:\n",
    "    train = df_train\n",
    "    test = df_test"
   ]
  },
  {
   "cell_type": "code",
   "execution_count": null,
   "metadata": {},
   "outputs": [],
   "source": [
    "train.rename(columns={\"Label\": \"y\"}, inplace=True, errors=\"raise\")\n",
    "test.rename(columns={\"Label\": \"y\"}, inplace=True, errors=\"raise\")"
   ]
  },
  {
   "cell_type": "code",
   "execution_count": null,
   "metadata": {},
   "outputs": [],
   "source": [
    "# Replace Inf values with NaN\n",
    "train.replace([np.inf, -np.inf], np.nan, inplace=True)\n",
    "test.replace([np.inf, -np.inf], np.nan, inplace=True)\n",
    "\n",
    "# Drop rows with NaN values\n",
    "train.dropna(inplace=True)\n",
    "test.dropna(inplace=True)"
   ]
  },
  {
   "cell_type": "code",
   "execution_count": null,
   "metadata": {},
   "outputs": [],
   "source": [
    "directory = os.path.join(base_data_dir, 'federated_datasets')\n",
    "\n",
    "try:\n",
    "    os.makedirs(directory)\n",
    "    train.to_csv(os.path.join(directory, 'train_data.csv'), index=False)\n",
    "    test.to_csv(os.path.join(directory, 'test_data.csv'), index=False)\n",
    "except OSError as e:\n",
    "    if e.errno != errno.EEXIST:\n",
    "        raise\n",
    "    else:   \n",
    "        train.to_csv(os.path.join(directory, 'train_data.csv'), index=False)\n",
    "        test.to_csv(os.path.join(directory, 'test_data.csv'), index=False)"
   ]
  },
  {
   "cell_type": "code",
   "execution_count": null,
   "metadata": {},
   "outputs": [],
   "source": [
    "n_samples = int(train.shape[0] / n_workers)\n",
    "\n",
    "assert type(n_workers) == int, \"Non-int number of workers\"\n",
    "assert n_workers >= 3 and n_workers <= df_train.shape[0], \"At least 3 workers and at most as many workers as the number of samples are allowed\"\n",
    "assert n_samples > 0, \"Each worker must be assigned at least one data point\""
   ]
  },
  {
   "cell_type": "code",
   "execution_count": null,
   "metadata": {},
   "outputs": [],
   "source": [
    "client_data = []\n",
    "train_copy = train.copy()\n",
    "\n",
    "for i in range(n_workers):\n",
    "    sample = train_copy.sample(n=n_samples)\n",
    "    sample.to_csv(os.path.join(directory, f'client_train_data_{i+1}.csv'), index=False)\n",
    "    train_copy.drop(index=sample.index, inplace=True)\n",
    "    client_data.append(sample)"
   ]
  },
  {
   "cell_type": "code",
   "execution_count": null,
   "metadata": {},
   "outputs": [
    {
     "name": "stdout",
     "output_type": "stream",
     "text": [
      "Worker 1 training data contains 1196 points\n",
      "Worker 2 training data contains 1196 points\n",
      "Worker 3 training data contains 1196 points\n"
     ]
    }
   ],
   "source": [
    "for i in range(n_workers):\n",
    "    print(f\"Worker {i+1} training data contains {len(client_data[i])} points\")"
   ]
  },
  {
   "cell_type": "code",
   "execution_count": null,
   "metadata": {},
   "outputs": [
    {
     "data": {
      "image/png": "[encoded data removed]",
      "text/plain": [
       "<Figure size 2000x700 with 3 Axes>"
      ]
     },
     "metadata": {},
     "output_type": "display_data"
    }
   ],
   "source": [
    "# Number of examples per layer for a sample of clients\n",
    "fig = plt.figure(figsize=(20, 7))\n",
    "fig.suptitle('Label Counts for a Sample of Worker Data')\n",
    "fig.tight_layout()\n",
    "\n",
    "for i in range(n_workers):\n",
    "    m = 0\n",
    "    plot_data = collections.defaultdict(list)\n",
    "    sample = client_data[i]\n",
    "    for label in sample['y']:\n",
    "        # Append counts individually per label to make plots\n",
    "        # more colorful instead of one color per plot.\n",
    "        plot_data[label].append(label)\n",
    "        m = max(m, len(plot_data[label]))\n",
    "    \n",
    "    n_cols = n_workers if n_workers < 5 else 5\n",
    "    xlim = [0, m+(20-m%20)]\n",
    "    ylim = [min(unique_codes)-1, max(unique_codes)+1]\n",
    "    yticks = list(range(min(unique_codes), max(unique_codes)+1))\n",
    "    yticks_labels = [mapping_inv[k] for k in range(0, max(unique_codes)+1)]\n",
    "    \n",
    "    plt.subplot(int(n_workers / 5)+1, n_cols, i+1)\n",
    "    plt.subplots_adjust(wspace=0.3)\n",
    "    plt.title('Worker {}'.format(i+1))\n",
    "    plt.xlabel('#points')\n",
    "    plt.xlim(xlim)\n",
    "    # plt.ylabel('Label')\n",
    "    plt.ylim(ylim)\n",
    "    plt.yticks(yticks, labels=yticks_labels)\n",
    "    \n",
    "    # plot values on top of bars\n",
    "    for key in plot_data:\n",
    "        if len(plot_data[key]) > 0:\n",
    "            plt.text(len(plot_data[key])+4, int(key)-0.1, str(len(plot_data[key])), ha='center')\n",
    "    \n",
    "    for j in range(min(unique_codes),max(unique_codes)+1):\n",
    "        plt.hist(\n",
    "            plot_data[j],\n",
    "            density=False,\n",
    "            bins=[k-0.5 for k in range(min(unique_codes),max(unique_codes)+2)],\n",
    "            orientation='horizontal'\n",
    "        )"
   ]
  },
  {
   "cell_type": "code",
   "execution_count": null,
   "metadata": {},
   "outputs": [],
   "source": [
    "import tensorflow as tf\n",
    "from tensorflow.keras.callbacks import EarlyStopping\n",
    "from tensorflow.keras.utils import to_categorical\n",
    "\n",
    "from sklearn.metrics import f1_score\n",
    "from sklearn.preprocessing import StandardScaler"
   ]
  },
  {
   "cell_type": "code",
   "execution_count": null,
   "metadata": {},
   "outputs": [],
   "source": [
    "scaler = StandardScaler()"
   ]
  },
  {
   "cell_type": "code",
   "execution_count": null,
   "metadata": {},
   "outputs": [],
   "source": [
    "X_train = scaler.fit_transform(train.drop(['y'], axis=1).to_numpy())\n",
    "y_train = train['y'].to_numpy()\n",
    "X_test = scaler.transform(test.drop(['y'], axis=1).to_numpy())\n",
    "y_test = test['y'].to_numpy()"
   ]
  },
  {
   "cell_type": "code",
   "execution_count": null,
   "metadata": {},
   "outputs": [],
   "source": [
    "y_train_cat = to_categorical(y_train)\n",
    "y_test_cat = to_categorical(y_test)"
   ]
  },
  {
   "cell_type": "code",
   "execution_count": null,
   "metadata": {},
   "outputs": [
    {
     "name": "stderr",
     "output_type": "stream",
     "text": [
      "/opt/miniconda3/lib/python3.12/site-packages/keras/src/layers/core/input_layer.py:25: UserWarning: Argument `input_shape` is deprecated. Use `shape` instead.\n",
      "  warnings.warn(\n"
     ]
    }
   ],
   "source": [
    "model = tf.keras.models.Sequential([\n",
    "    tf.keras.layers.InputLayer(input_shape=(X_train.shape[1],)),\n",
    "    tf.keras.layers.Dense(units=50, activation='relu'),\n",
    "    tf.keras.layers.Dropout(0.2),\n",
    "    tf.keras.layers.Dense(units=y_train_cat.shape[1], activation='softmax')\n",
    "])\n",
    "\n",
    "model.compile(loss='categorical_crossentropy', optimizer='adam', metrics=['accuracy'])"
   ]
  },
  {
   "cell_type": "code",
   "execution_count": null,
   "metadata": {},
   "outputs": [],
   "source": [
    "early_stop = EarlyStopping(monitor='val_loss', mode='min', verbose=1, patience=20)"
   ]
  },
  {
   "cell_type": "code",
   "execution_count": null,
   "metadata": {},
   "outputs": [
    {
     "name": "stdout",
     "output_type": "stream",
     "text": [
      "Epoch 1/300\n"
     ]
    }
   ],
   "source": [
    "model.fit(\n",
    "    x=X_train, \n",
    "    y=y_train_cat, \n",
    "    epochs=300,\n",
    "    validation_data=(X_test, y_test_cat),\n",
    "    verbose=1,\n",
    "    batch_size=64,\n",
    "    callbacks=[early_stop]\n",
    ")"
   ]
  },
  {
   "cell_type": "code",
   "execution_count": null,
   "metadata": {},
   "outputs": [],
   "source": [
    "model_loss = pd.DataFrame(model.history.history)\n",
    "model_loss[['loss','val_loss']].plot()"
   ]
  },
  {
   "cell_type": "code",
   "execution_count": null,
   "metadata": {},
   "outputs": [],
   "source": [
    "print(\"Loss, Accuracy: \", model.evaluate(X_test, y_test_cat))"
   ]
  },
  {
   "cell_type": "code",
   "execution_count": null,
   "metadata": {},
   "outputs": [],
   "source": [
    "print(\"F1-score: \", f1_score(y_test, np.argmax(model.predict(X_test), axis=1), average='weighted'))"
   ]
  }
 ],
 "metadata": {
  "kernelspec": {
   "display_name": "base",
   "language": "python",
   "name": "python3"
  },
  "language_info": {
   "codemirror_mode": {
    "name": "ipython",
    "version": 3
   },
   "file_extension": ".py",
   "mimetype": "text/x-python",
   "name": "python",
   "nbconvert_exporter": "python",
   "pygments_lexer": "ipython3",
   "version": "3.12.2"
  }
 },
 "nbformat": 4,
 "nbformat_minor": 2
}
